{
 "cells": [
  {
   "cell_type": "markdown",
   "metadata": {
    "id": "oJhzZzUA6quu"
   },
   "source": [
    "![image.png](data:image/png;base64,iVBORw0KGgoAAAANSUhEUgAAAfQAAABCCAYAAAChMiRWAAAgAElEQVR4Ae2dCbwlV1nguyOgjAjq6LCqI4w4o+KGsgw6RJPcqttLQoiNqCgi6ogwqCwqgvIAB5QIOEDAtl+dqtfZGxOyyCqbgERkDSEQ6LxXp+7rTmftTjoknV7v/P7fOV/dU/Xq3nff6/u6+3VX/363q969p776zneWb//OmjWT/Nfvrz19qv+gOsho89ce3Ulu7sapfVls8s2xKT4YJfaLsbGzcWbnY2N3xKmdi5L8y12TfzgyvSTKij/tpsXGMzfP/mAd3ulTH3/Qmqmp0+rft3+3FGgp0FKgkxVPXpfe+CihRL+/tqVIS4GWAkuhwNTUacJkg2fWmfyp3dS+Pjb5J2Nj93ZndvQ3XLa7v/HyPf31F9/eX3fhrn53Zmef791np3zHbxsu2yMffo+NvS9Oi89GpvibrsmfuWlb/9v0NXI/1W8ZuxKkvbYUONUp0O+vjdL8z+LEPl1I0e4Pp/qMaPs/NgVqGvkZW254pNPC7RfitCiZdzeb78epPRJnxcE4swdjUxyKjT0cG3uk9jksv0m74iC/dbNef/1Ft/U3Xn63MP7Y2BvjafuaDTMDzV2EiVYSH3vY2oYtBU5aCkxNnRab4qVxOvvz0seWoZ+0Q912bIIUCDXls5LeY2Jjz4+NvRPtGgYcG9sPmDeM23231CuCgLGHo8QeRChYd+Gtor1Hib23mxbv7ma9J2i36lYC/b69thRoKXCKUEA09OKP4rTXMvRTZMjbbh4VBfCTf1z85Kd/vP+geDp/VWTsHkzpmM5FC3fa9/IY+OIM/zCCApo7wkNs7D7M8Zu23f4wuiWCRqutH9UItw+3FFi1FOj313aT/I9bhr5qR7BF/JhRwJmvJMgkSnu/GBv7VTGFZ/N90aCdCX2lGHkd7hGntffEHB8bm3fTuY1Ki9CCoN+115YCLQVOcgq0DP0kH+C2exOhQMggI1O8rrt1p5jWjwMjX8DYY1McIMhOTP3p3DvXeL+ZWhImQoAWSEuBlgInPgVahn7ij1GL4fGlgKainZ7m3x2nxYcwr0uQm7EEt9UZ7HH5O0rEz35447Z7+pEp/qO7ZfvjoBpugeNLvfbtLQVaChwzCrQM/ZiRun3RKqSAMsQ4zf9rlNibhJmb4oBn6MeFeS8iRBzYcMmdCBy3xDPzPwnJn7z58w9ehaRvUW4p0FJgqRRoGfpSKda2P1UooJp5nMz9KMVf1l98Bwz8wCIM9bgzedwA6y+6Fb/+vRocsxymjpvhyZv7D5Zn20C7U2Xat/2cJAWm+qcd0zXUMvRJjl4L62ShgPrM15tvPj42xc71F9+mgW/HnWGPJVBk9iB+9Tiz965L859mXFRAGWuMmhh403djAWsbtRQ4BSnQVM1xpddQy9BPwYnWdnk0BXxQ2bkzO/5z1+TfRDP3wW+rg5mrX1+Y+q39rrG34jKg0yqojCSA33Qik59DSlxk8r8qS9Cu9IY0ErH2x5YCq4QCfg/ppvnTIpMfuzXUMvRVMkFaNI8NBQKGFZv8oz7X+4Q3sw/T2hFENlwiAskNT3/r/EOFiE2aQ0DdTdu2SXnZ2Nht571/v8t3T/PTaaK/Bc3b25YCLQVqFFAXF3Uqjukaahl6bSTaP09pCqgGG6fFmxwzL1YtMw+Y/AGXL28Ng7soUy61i+Ld67beglVibzzT1oY+pRdG2/klUaAMpjXFSzmfITb5vo6x/xMgU/0VPH+hZehLGqe28UlMAc3b7qRzZ1FiVeqsu9Krq8vUrib36vUQ0e/drPgthnCUP10Zfquhn8STve3ailJAGTpV20QxyIqD3ax4Bi9tGfqKkr4F3lJgzZo13tS+cfMt/wm/uQSUnUB55oG2vVzh4jCnt0WJvYPjXGXMvSa+YPxbH/oCkrRftBRYCgVahr4UarVtWwpMmAKqnVMFjlzzVRkEV9XIFzB+8adftqfPeeuQT90LjaQMYgnK35u+K39sb1oKtBRQCrQMXSnRXlsKHGsKeE3VF4+5l4NP/LGmC5jiUWnKznxPdbn6h6NUw3cdcie12SO+gI07bc0duxq2C+7lSNY63EP+qFbXjven7kjWjpl/KmRW83oTyWH4m7b1H/JjUzc+RC0YlXYw+CYmPzV1Gs8SGKQfeU9T2xDgVF/Olddn2BQdfn2pnx82XfR+qi84AEPhcRUhZphlYlGgNOivpbQuAuACuI39UxotoQ/9/to6/UTgXDbezTgPYC4Bt5BGE8fTW8oa6IuLSEzVjTQOkdL7YXTvrwWOzgsZT32k6drUR52XI3AZi6E3wJb5OQJuE4qV75bgQw/n78L7/oO1hPTC3wbrmhx7bQddNee+/oy2CXF1c9zVuai3B47QwhfGWvi74jB4//A2tB20Exz6/bWj21OMy62LxdqN/n3cfmh/mq9N9KvScltZM2QhPg6HJnrL/h3USlj47OcfHLpnm35f+neDsRj97NLbCU104nSz3jvwd62Idi6MdL6/4dK7+viyN1x6p7/e1Rfzvj8mFcbO71gJCEjjBDeKxBDU5oJrOE5VmHfAzN0zTbDlmTAOICsO0i5K7Hul88tmEuF08vfCRF2EfMOv8pXSOvy96bvwd+7HabOUdkzkcWEqLmrF0b+brgJzuTT1QkgT3PC7peA9Ds7Adu3GZOwrgCcb1rj9knbLYHrD4Tf0e0x8ROBsGO9RDB1ajxKkGY9hcMN50Hi/BIbe+PwyvxxO2wDgItk1QcuVu5V50zDeK/fGiUEeRuNh30/sxasFkIytn2TkWcemuKebzcMol39+eVXTLjVj4EYm391N7T/Fprgqms6vipLi6sgUl3FqW5z2hLHL+9PiQ51p+4oos+dFmV0fp73nxmn+2jixn8YPTpEbr+X3Y1Nwj4b/virs/Oo4se+JjP04sEsLQMjc01k5M3lYkE737du//czNux9xdnLHd62pLUY2pe5Fdz2cj2xewabWMTt/IE7tszvGvrqb2VeTuhNnxRmbtvm0OSf5itYdbmzrZnY8MTL5C7pZ8VfxtH0NAUXrsrn/hRTHnBqGp8w3BjPY5M9KZ3+E4EY5StLY14BHJ8n/PE7tumj65v+mczR8v3634Br0jcWz4cIdP0VwIXh2zJzA7Rj7y6dvvuX79FldZPQZGna23vqd+lvTNWS80YX20dHMzjPBF7yjZO4vu5n9jU6a//fyWcYj6G/5vd4E9GB8ImN/Nk7y347T4rWxyV8FfTum96vr0tknVaT/oK8KKrxOHM+asHZ2ctN3kbsdp/lzo8T+pcydNH9tJ7W/0013PI0YlxKfEbh2tl7/ndDdtR/MDZnTSfEL0bR9CbToml3fL/ACWoZ93HjJLd8XmVkZC+YzOEXTcy/pmvlnUqdCcdHx1r9HMXRtw7u7abExSu1f6PxkzjL+2qYOV78feh2ToUMHd/Rz8TqZE1vyqZgPNJF5XbwxSuZ+iveAH67IpnZRYv9vJyueTLuOufmX49S+WcYtgBVN278u524wZlFqf71jijfKetf3b8mnqHtB/Qs5PVLOdx/+fp4fF88zp+3PKN06W+0PR9O56xNrQt/PfVIIDow9+0Nj/7X9iKv0KyveyP7NHga9u6l9fYWOI56Xdmn+Wui3fqv9H+Cu80r7oX+TQRFnnpbaHz+WZGx1EtuFn3APfQV2Zt9wxpa5R7pne+eX46Y4+XfHqf1D3oe1tnHOaPvFrkucW8saW128dGbDZbuprHawZH5NzHl53x12J6EVn9WBCK9RZl987tX7+3GSX98xOyW1Jfw9vGcjiTP7ObRsz9Q9bPvssJ3eb9p2z/fGxt5VEVQye5C+dtPi3bSrbxrKQGEoLjgw37FhZv6xtFXzi+BBOpux+7pp/ix+62a9J8RpkYLXOVfc1/+VD+yXz7P/eb8TVowtuqb3IsGNDdQLCTDDKC3+FRyfddUD/U0fdM9x79Pmvgpjl+eCDUH+5r/gu9jkvxZn9lOU6IVGvFvhlfnAUr63eF/sc+tHMcaQ4XfT4ve6mb2B+bFx296yf/QTCwrpfdG0fZcejANqkSlmhIaJ/bQuPjXlKf4qqJxhisd30rnp2Nh7sNKAr9Lw7H/6FsLbodj0roPZ6bNh38vvAuYUJ73fRmBEEDznyvtLWgD37Pfs7ccpAmHxlU46939KWAE9S5iBQDUxPIO5JwJ1Yi+IMzsPvcL5w/g9670POEuWsTnCbSkgVXEtXTNxYj+wbuvOPlftQ2Ts78ZJ/g0Zv8vv7p/9nnv7WkVR+65roXvRjsdFmX0Xa6c+FqxVNy/zuxjfM7e4zVZh8D4da41yx+rHmuG37vv73w4jjI29j3HVMT7vffvFChcl9m7WUcfc/AO0V5y0HyOvizF0PzcQdjgxkjnBXIYW7rNX5vKzr93P/vB7vIu9a1S7OCteSrs4s29lrNhbFB7rgjXYSeyVtJG+eBxYp/xGG23PFSspNIkzewlrg4yjUe8fF89y7xEhJY+hvfZ58P69fb4Hh870zT+xaduND5H5uIBOSq/hV+07ShWCJXNmYT+GPw9OHLbFM3Fa3KJCkc4tvXZN/szY2AdYM9WxBPZeWUtxVsDX7nfvv0f6zf6KoA/ve86Hq+Om7xa+ZIqd7JEodsvpQ0hbockS5tZyxnYNgxYl9muOeYm2O9Bol8fA688fxmwOI1YBgsXPe2UhpMWbYlPM6t/8xmAx+fnwjAxeuFFndgsbTWzy/cLcU/vPlQUjJmUtEFNcEwgA4HYEU35s7G1NGooydCRYNtIosfehdQNfJxEaNzDAoZvNdTgIJs6Ke8+9Zj847YxNvrmTFH/utQ8jG+Nle1yRmqSYAhb/osy+HBhMxiix2+N07p1Rmv+ZSIuZfU9s7LeYBGJlSGfX8Uxlg/M0gXaxsVcGsA7GpvhYPG3fimACHkiwcVJ8hA2dRcuGH6XFHwkiVcYgXykzJysAgQPYLDAnHPWui7Pe+aL1G/ua2BTbYOiu/3Y3NJH+JfnV51y5j77doHStMHT/XjRQnmfBifBn7OcVvmgsSXG1LloKBcWmyHQsqgLJwJxI8COuGxYU2Q1xai8SLVNoYd/QNfmHOXpXFi8nCGb2U5wo6OgxdZpc9b+J4zkYxzibO5u+s/nIWGfFdjZzsdJgoXAarIlTOwf9RRAx9ovr0vxRDlfN6x70HWuWbIQmv442CAHApq9+nX8rNnaXaj5uPbr1EmXFc+LM3iFjITnkg7EQy0aSXxobezvwRAkgJibtiRajTF3HRhm6WP1m5n8SjaibFTf4eXJ7lOSG/jGPOkn+/9iHWKvMTyo8npXukLLNlTmvY9J0HZOhd9++/eFRkt/lrZH7mQfuYw9ESf6Ao1HxPKGdKe4e2m7rLTCF36Ud+4Wnx30hPLlPi340M/8U2mlfsFD6sdg3aC8HX93PHBeFY6p/WmTyPUPfT3lrMx6eneni+UoysSY41yV1Rnzf5d37naKU74OB4nuPU7t74fuVXqOudp9Pf74CSx17oI+JCug96nn3G+Ph94RdytSVV3hmvg+Bnf2hQkcd09TSJy+8y73rM1bhdP5JcTr7Mll3xgbjxrvtA+x1UZJ/mT1r07bbHyZ9cBbsJfXB4bXEubXMsV0TZ7PCnPyg1ZnxJP52DD2xn1MmwSas90ghEJbJhilMGbhsCjVGoxuFLKAkN55R4yL4FmYkmbD+GW2LBF1j6Gzwh51PvvdrPFMKGsHpbJiM2FhiY+9WbUFholV7U/4R3ANIkFIiN7MvP/2C2x8meAT/sfnCTBFsWMRsVHEyd7aHf1+czb9QF3rw2Jp1M7NPjI39uuTypnYOk6z8rsKN7ysMjo1eUvOMfX904XxpVg/hcS/Ch7FfoP/ggnmb7yvv93Axq+om6xZnft0wK0pn683/JUrs3xEfAW2itPeLbNgirJj8S3WGru+LffERNkPeFZs8quPM3xtmZn+wm1mDlCxMLbPv8e1KzVRhIgSI8DGzA5j/WDLqGmCsKrhqWLhI97GxV0gTpW9Al0niqVYJryEcdHOxuDvOit/XPtRQlbUhgpmxh6X/afGhKq4BQzf2E9C9m9lrEa5gEJ5JXROnxaZ103M/hJav79L5z6bvYlb2QIuvq2BWx2X9xXd/D2ZhxhnaMeaYkGkHTF0nMHTGgfXJOoxNsYu1GKXFn4krqw4YBpYWv4l7zq/ZHRtmviHWMRUW6o9U/h6XoV+0/eGxsXd6l13VxajnQJSM0sLQ6cPCdk0MXRmIKkM+bifOCpmvSnPH0KXeR+0Y6uLAAoYulqSG91c2/WY82esY+5Chr5+xv+RdlSgg9M19NJYptfeXDN3A0MW1We2/0CNkyPaA14QV3iGZF0l+9YChjwOnOCBxXIF7lL8dU893clgYY35mUvyCMF3HzEMaEmc1EFK4dxq6w9/DFSsTipjJ/2Tj5fdwQqdj/EoLYw+jtEXGfilg6HudQhOORQlf+61X3odgUAZ9MxaMLXOcPsReWGyIWxP+hKvRtbMN7+XI8PwB+hGO7RrZhC8TDWUlzO10rmTog0XpNx+3ccqGLJGYldXp/4C5VDZYp0l4rfTrTlO+oy9m05A5e6a0fmvvJ8SVwKLQSSKLTFwMl8hbAh+5Mh60GjZFTMB1hi5CkMQbyMS5RzT+dGD2Z9ECRz+8Q3zrpribAY2N/Tc54jWzB89Kej+n3XbP9R/Mhqh44MPENCwbodcGMP2XG8PMzjMZVGG4gYkVk36IB5u2ClGdLTf9MBYKBAU0VXl/QGN1B4jWf+luNf1vq47DoI+DccXM3ntBqWma4qOyoSf59doftzj6Ul63u3X+mTAFGBoLB0ahtABfnhHm4MeS3xgXGXPcLql9Gd8JLTz+jBVCmGMIxUcVXoUWH+8/SPsoMI29AkYGXIQ1hak0niieAPe4xpn9FxGAsuIgfj7FFXrq3OGqeAiumX0rmxvCGz5nxXXNmjWlYBOb/JNo47Gxn4iN/TzWFTXfle/wNzonJM4AV42bn18urVdr+mt1LGQMg7HAFw8efv7fcu7MXvGrS2YIAjoMHeuHsfvEvYGgl9n1ikM4Jq6Pbl+IkrnfEiHLWU62uD6ODjgVmGMy9DM3zz6CNeNxKzdcmDbvxRSu9GJuemEvZGiu3bWYxqsmd9nAdZ+BOeh9oKWDK1YUZ9KVrB9o5Nqm9gjupk6SX8o8YKzHxxPhqQj7I8oL5mX1BfNu5pq39Azwc4zsMOuG9RtlxY+zxwYCXgj3CBY+5lj5EVP97hCeFPMiZkpM7hfuchaogMFB7wVwvKl9oRBVHGC/wkUr9EuLN/v9+YFSIIEJZz0R+Ct4iTW3ZMKM4xHGH96A4rbpQ1hW7eFyrDwtBH5qb3EKKBp6Jc5M5gPv8ZYZN4bu2SO4dMQSKkJXCfuQKH6eoUNbLJj+JNOSvjB44CLg01fWV02QOBJnO8Riinuoo65cJkyU2C8COJQkAgKFSC73fjhDB1vdkDFbbf7aoyV4KbGvZOC6M4NADt0EaS8bizNZn4f0yaSPEvsxB001lYHQwKbmJLxSWjoiGwynsXn/tG5sCnsxhu409OKQaJam+BuHV//BIZ4On4EFAG2QzZUJJQwnsy+kDZaJiilaHhwEM0XG/rufXBfJT0EUcjRttzgNz+6TIK+APvr+8EpwB3/HiX2LX9S7y0CkIPr9rGSuw2Jj4sfGfkGZttInhCn3Pt1KYKfFm9mEmJhiBQhN7p6ZsYHHqb3eMV67G980zyozqMOXDV8ZoSmucWay/C6Nb1CBEBMk7xStxOS/Ogqm9gVtJDZ2v9vI7Lt4RuMlJo2nY1xr1nRN8WOcBiiLObFbeaf0wfexsf9iqfjGY5HsYTJoyQ7Xjz8onD+4D/yc2CsMejp/Fe2Y4yIg8Q55j64VtAX7bxsu3c1Y71UtSE2bdVyYC0ofLCDsH3x0sz09zb+DZ5zJXWDu95qJuHgEblM/+c4L1xIr49bKLhiw4ND0TIjcYgzdt+VcB3CLTX6NN9eyOR/2c/2mOLNv0GCzOJl7ZZzZC72WCn0q7TQoLkrsL6EcYa0TASfU6L2WzvrXfuDa6KR22sUtOc3VP7crTos3d0yxwc292ZfFplgMz7Wd6blXRCa/TPaltNCUX/A9hGUL5qWk8taud5TvdkKHd0UWBBS/Eosb6wMNtolOFCAT12CST+FuwHoUJfmMi0sRjV8Z+jXMOQdnYT9COBKQRzBoYt+CYOLHQxmdxEupoEWAnRO0xDwu4+L3eGJ5/loE/9S+XtyCqf1nB6sombbQOrFPZ/yitHhb07h1jb143cy8uFSwKA0YOnBkzPbT9zjN06DfDu/MbscSFZn8S34PPEwcEOtdNWoJHCRo2hRX0cbzYO33VzU+hTUWzKnDCAvE20B/4lHKgEeiocX3QCS4SpJOwgD4pD4jGboyUjrJZiIS8eV7vH+614+T4u06EQebltuITk/73xFUtjtQTlqvRagpsaxNPwj6Owyzik1xs25edYa1OEMv+j5nf68yFYUxwNfdySaKAIIpWHziMhm+7hj5QGOrP6fwWCiOoRefVYZAWxhA19iCIJrI2K8teL7hC6UJkep+0z8Sp9v94TP9b9N3qvAhfcxmz3DvcxH3DWDdV57umHNjY3MmIQsp9KErLQhYYwEKDol9pYPfl4j+YfC17+u29n4OM5oE7yT5n9OeucA1NvY1stApN7rVBWLpHBsGl+8jk/+Hc4Hk1zmJ3MdgTBxPx+yQqtHQiNNQP6gyyVF4QgOEcHAt0y9hdAGzi5O5Tzuh5lYC464vfwssUbxD6Rmnc5toL9qDKV7HbyogDcNF3QaY7zEt0hcVqvVZYeiX3qXaxU2lgBDgWoev84NN2ZvrD5RWrMA6UH9O/h6ToWu/O6b4FWeRKA7JfMJ1kOQupTWw9rHp+7WO1nTQm5IH7bD4+H9iaaorSLq31rT0s5KbHiPmYcccDolQJCZeB6wUOBfBU+f3GVtueKSYeV1mjwgpwFTXCfB0jhHdHQgzom0iDKCZa190r6jQyVhvSvepv9p4zZo160z+VNa7p9URERADq2F3JqD3CDiAxDVE4KRnlEfUTdoxTmtF6BItVszrzrISp8VtnWkfQBzgBd8g6NorU+ISdAxy4N4bjJtLi6YPKqwBiowmOY5b+IZVRec+fosSMn8kQ8zPD1Kji6ulH6b4B684iWDiFLl5UeQURYFt7O2eaR8S4SMrtqurEAHPKz5So0UsAt4ypDBkjRPK7ySDqplmgszcS06ysXxOmYUyZl1YmJXZ2GWC4e+A8Xq/BxsXkgyIa/vwnuARBsoxJ6eJ6ETU9sAfTN5cNEdhrIl9C7C0Pfe6iBZn6PaIbAZpXvNlAqX6TzcpNjg2TRmcZO4CWimO1SfcX4oXEisMPTJFj5QkbcsGSWBd1xR/y6Jz3w+0Lm1Xfi8auAtGxD/jJdo+LgTaKJ5sNATjiDnYFJ8pn68CbPxLYZDqw7gwSUOGrswFs7AzVRW70AYE2IiNfvAy17/SrJzMfZrfdNyQWmH0ocZIZPVg7g0ghXed6d5PRGke4/tXuvP7pPFUPPABRtPF30pa3kU7Hie4DO2/K44DEwW3yBQifESJvdb1ocbQM/upkkH7wEcdl7DPigtMDJohUJdpjYsxTwB5fNGWCJyMTJ6IkOqfFYZ+iZvvzFEeUYZSwSP4Q3/vpL3fcevLHiEIlSbKuILm1dsxGbq+g4A29g2YBZqsWBES+36AQmtdm92s13EWOdU85QRHaVfi1O+vxbRM0J/bU0troFOMvJauvnTeIbE0MCRh6MUhnuN5STfs99fqmC2GJ+NAWz5Y05j7aHtYyMTqlNh/5H30R+c2Qaf+N1ytYiLupraQGCDGD5hTWH4Qdut0knMx/Nyjhft35rbdj+hmO58hLipis7K5Dq4cpeO6mfHgAI34nTixs07xkr64uCdvhg4ZujB7+pwWn9U5qTjpFeXVZUkVZzCfiB0iNY/fN147GDc/F1wgssbzeOsjz0saJ5lJpHN691wnLc4qBT6dR8bNI3H5mjwiEFFir0wekUXCe7FG6imgpNJ5Rn1QTe4S0HyhfbSzukj6tWP2xuYyTs6i+hBdx0hBEv0KgAkzcTeJvS9CJlhiFzB0JTb+JMeQS/OJPi8+EVJZzkp6j5H2fhMZTLb8BTAmFgNalsIM23YlCKboeabO4j0iiy7rnU07nXDcK2NYlKEbe1g0iNS+mecUH3lv7T9dmG6Du9O5CAJ/eK15+afCJFrdaY/2LqQ5adC0+et33iQvEjnag35fQhYJ+E0i1OA78gxdzd0EpjEfKhpwoIUEYBbc6gYXzxC0Umgw1leUrjzgLUP3uQ0llzgG6St4LvJROETtOwnd3oMAooggqEg8gdN6bgulbARJxkLGu4EmCkPptVJ4Ko3K93Hj+62MBC3Xa8Glb5xmLiDN7mHxd7NiKEOX9YRQnPak3kK56PWlvv8IU0Sto011EvsJ/Xn860IBsjLf0dC37sTPJ+4PndPD4OtapJaDaCppEcQ1LOJHH5uhK6PqvaDO0OO0kIwZ5kqJSzZ7Rp2hh+10vjA3EV4bGXqgpVNrgP5j1h9o6I6hh8Kv0pG4lFF4VnBN7AUBo3bWUVxm5Xx344UA5vdcZ52QoNT8chkXL5DpWNXfL7ikxb/iqsLNB9Piyt+4ztRCo2M8LhyCo3FFkREQG3tjaT0xVoQu3hua3J3mW/KMQyhKzGHwKXGadrid8Y+zTwz3CcWNK3TWcaswdL8v6jwInwnv2T+Hz4+wZXCv41Fdh7c5Ld3NhdjYWTT9BeOkQroXuEqoncReWqrykzOxKzPWa7PJ3U8aTDwuVSIIIKniIiaeeDr/3yCu0rVuij4nXN+FZFUtGOPfgx/Ma4QHhGiZvaMM/FHiLo2hix+8Y2Ylt1wXX0nc4EZ/E4ZOvr+xR5DqaKL9CJqXt7oQBgw9X8DQoQcLiM9iE4/UC+gtkp+xe0SqhPH5iasuAGjttKNef91MsQwJPVAAACAASURBVMHh6QLZSuSG3Xha4veMTbFTzFypdUFx5Zjb8zBR8Q5doMPADfseM7Wb6BYzl2hwtCU1Ch8z8L0ZbB/aIRkDTbBkbMDLC0HKUGmLBWsl8BRGXQa+ufKfgw13IZbEPaxLb3wUwUxxWnwInKTvAfMJn48S+ym/ru/8hXcVLtAwmOO8Qecd9QjQ5kS4y4o38pvOu4WYDPkG2AH8hvl+WLUZfe8QSKVwHc/Yc08uhl5g1hamo9kUk2PogzEj28Bb3kRx8YzmATI6lOYSq2TsoJCYuK929zsm/xPa6PjpPKgxdL/XYtWVoOAy5Y80YpQ3rCvAUWvNuHC8YklKmJq0xUztlc1Dbs67FEniR7wpO4xOl4h+9tdKOh7R5nLi33yftGBwE6HD70ehINbM0DUQe9u3MX/1o4LLKIau+4k+I3t0sFaE3p4xh1q6WE3Yw1yKtbhPZD2Idn6jy6SqwVmDr03NM8daQ1fmQ6GQRolWmboUgtmDOSWl8+WGUDIHEQgkPQAtIzL2r107x4B0MgU+4/0wmcjnrocbkRto5yceqaFPz54BvZwm6AqdaH+AUf+nC8QxdDIKxjtOUnEfMPQmDX2gSch7+/215BeL+XjL3Msjk/8NvlZMx5jRJa+T/OJMcvGPyIKvM3TRfiWN64CeY71Aw6t3cvB3qVESZe39oF9m0SiNWFTeOnAkMvk5BELhLyLwZLGP+pXYuGBsjEGUuGNxNeCvM50/X839MCsn6ZNCkn8yTvIposNh/AOUvZXGLxC1AqwUnjqu5Vz2iKB9e8vG83AzYcKOEvt+qVFA6pdkBLhKiU5QGmiT4Tymn9CdQkC66aibS/usOFCdEBoKE0h6v83vKjRr26Vem+Y7LgbgeKvDUJA6R04iDR3Gp0FU4qsWQXPL3E+SaiuBUIHJfXkaOoR1tROkwBU52RU/+m1lWiGEp2LkwAVZRn+XufK61gdzpGIhCJQnMoeCD8G+l9zZp64E79Hn9dosGPgc8RJOWdkzZOZyD0OX/UKsG/kfCEP3rtmAf0HvKl6OvmJGZy8g1VgmYLDeR2vozZYhXb+jGHp93TVOfI+Ht5Z5LV3Ghfkic0ZiN7CiDNPOAUxAmUTM6UPKRCd7bdTQddGDoPoOgkEZTBpjRTKLEvsvFWL4CewXxT7HYHdhmvmabshCTE8sIjujxN5L8B/aC75n4NU3L312FEMXX0jqpcjEngsc3YgqOPo/tK8TZeiUkPV94zXCxE3+90xMzX+EaTLp6S8fyuZiRvcMjtzNI6Kll6YlLfYz907HiPN9WiNAF3lT/xZ85/HCXIRZnOIM0FU3c/HfSd43Oaf5AxTvkQAYKe4w1v23NG+UALiKZqGCXjJ7nlgILuW8AJeSxoYggTrO/Emlv09IYZOgrCyLVDegFcMzSDuEdgQI4g+ncAVaCpI4LhbWBR/B259x4CT2XITSJrMv8DCnCt3T4l8HY1M1jes8x1rjhSsCYxcWLxoAGPtuufOdF+g6imfmV7WGjqYnjDuz90aJvaSMkvfBnFgMO1smyND9YSrsCU1+9DixErMDjdnbJBXOBQmL/5z4HPHdyyi7uaLroJERyxoigEw/kn53QJScUjB0ro3F4fCsj0AHrronHF86JHt2wIhLRpraN8t6HuAA45docn/mB3uci2x3MOVe9r9kTgJx6S5r4bgy9ED4qWnpygc18j0//YIh2rkMrLG7ZNIdV4Zu/4INZbgfn1D/25FMgs1pTZnest588/Euz9WdEkd/tMykbg6aoxub4qOinSf2YOlb9QxA5vGYJvcKQ/f558G7FFR5Xe4GpwuhUUMP8I7T/E2iiV7qN//L9oS5s0xyBJ57nE8mvzpK8j9wBXHIbuj142mNYndR5lS6k00+tffji5KOBO8rOzbspmTo9r0uGtsxdBUKIpP/fTDm4EblsqUzdSnry7i7XGClsy54tPloi32x1PR3pXrdoUAwSR9hL5ouG1syd4Fq/xqNvVJ4qmuD6O3Y5F8BB/e5Q/J6wc2vB4pk3BObfHds8n8DR+qfc+9iKopr3BBUhbulMHQ2EB8tfGhcs/iwYdfvdRyWKsDyvK6jk4GhOwWFbJi5Tmzy6yRF0VBZT7JcHsA0jdXMm1UlKG7ZGnpIu2F+dL+GqT1RCvXe3B4lVf85Y6H7TzND5/wNCmXpZ5fESqBAaKqXPq/XYXDESjywKDgmxoFecjjXbaKAlFo19RYCRSY29nyEXqy87jPAR+A6S2RV208LwTVO7NPpJ+vxeDN07ZNo6Wlxm1e0Fe9DKGIjtXM6EhvKdK5oyhqDM1pDz4o/DaRFlUjCq0SfcgALOJcmDD85o2w7PniJFGUTZHAjY99BS90cdEKhjUj6l8mDIK1mzWVsDX1m/vho6L7/1D/3wWES2Y2WR/4kmie55Pjq8dVRZU4jKqENBT6cq2MQdKSMhjQJ55/K92vJSmXGMgRj/hcZ+36Hm2PoymhJI3TwiwOYvxknImQXM7fXfyfYUepySx5/FSkde/0WEzuRqZJjO20vdGbswmdHFK7oRWK/gSVHn1kRPFXY4cAYBKaLbhP3hwjWafFZMhpI4dSIXHznGtFa4uUrwZEf7L5bOkNXpot1A+sN79dMiTrt9L0jr/TL901htwzdCuM4K5n9OeIx2Jt8vJBqXF8nswDao9GzHo+Goes+N8SPvp8UQy1hWvpmh/jPGesSXjUoT9x0Yu00+VfAlw9nIpAaRiqwnm+h82gUHFLBSBlTOoiJ2Z/OGSXWUrGQHHuZe+x5ysyDFEw5G4CSyUl+/QAf+1VywCn7LGsMQWpgeZY6JOyPwCULhuc8/R0TRcAoLZcrbHL3C6ukE5k6rgaDWBi87/xmxk6aKg38c+XluDJ0DQRI7AvRwL2JJGTkcu+Y9B4Ob9kM4jpJ1HxLmlEwULpQbFmClc6rZDpjf8ZVXarCKgmyHA39eDF0Kj5NF89nM5ZNggmYFm+q+4bDvnGvplZJWaRoTBBFXDJ0Nnk2H0p7pnMbQ7rX4S38e2CuIwda0qF8pTgdu3KjxwzmF81COMv7BqFB3uMXv3OpVIU2IFP8hABKijZ4jcm5Ykz+H9XCKMRvTBZP/NpsgOIKoKZ+Ym9w2vFCPEMq0C8+uAqcYLp8DV03j05ifwN/KhtIWRhmzIyGELfwXudYOc5jxowAQ+fIyaKhO0HpZqk+SOR2ELMk1eb83GMNHzVDH+VHFwaRzJ0dzcw9RczizgTt/LNEkfta87pXMhY6R2qadSW9j7nsPloZc3COt1pGR8EhyJN3ERxbWg18jjonZpbzSphYbX0ETJ0MHeadftTKhhCDG9ZZR1yOufCLgGGfKAy9nPvp9tN9DITLa2dt+rz2UqApCRPccECDaAbHweSuE8enKCxg5AGTdhr6EL9MkE/tfCVUGKJ2sQmjs91EYLOn4Ek84w4q0IkWkKRkeCe8ho6WbezH2SD4YH3QftBPJrYyAKG1XxDaZ6np7WpBlyZ3XQRyYEjaE3871Y6Aq1qXvmPo1S8y0lcwozthzVtE/G/rZnrnMGERRqLpuZcAS4K3wHHcz1AEwh+CDcCfHyD98AKetnR15znAxR3jS//5jcCsieIpY4B1ZHY9+bVeS8oHR5H6fGJfplcsGiE9QGqqfxrBrEdrcleBWI6PNPaQ1LMeozaC0iy8MnZkNZBSyRzSjWk1MnSCEF3fBsGmWJHKDdbnGTfFL7DmmjQ98tiBSbBYoHmx55UMdSIMfYQfXVxfHOVq8j8R65gPJsO02+Q/B1/dKxYydM5rcAdihfOgci9z3a2/kXC85ZU5A+28wOO0aYlTcqWxdU5V3qFxRLX1XLbx682Xg7ZB2rIoK1jsaHviMHRnCRBLonNBiLLmBZ2qhbrsZHATp/YbPnE/nFijmOtyfms0uZemc2f6/4Izi5Q5hfqeQ7LpZfaOzruvrxQfKSfJdPG3gT/WSTRidi9m6Kpsityolm56f1ceG+kHPCDJCc/QtQymnJ1t7K3eujGrEd7NE3/QQ2XM1An22n2pJetvcsIahWVcsRE3kQJpeABt4Z0GGcom4GuOo42y2WlripfA7L2fXsrZluOkjRa5Yk2AFnxUowZ/qt4R4a9lE8N5VgXpDggqrRKpfRlzUISM1P4FbYExSTzVZMZJfLyHIMVoxopAw6ZSxW/BX/7MA8px2q+zKQ8rLDOOD10lfVwdlL0UDd3kX1ps/oRY6XyhP04xKPaqGZN2q46hS6U4VwENOpT947xt3WAxUVPvviFlEC2xiaHrAUjMNdZCoKXrPsd1qIaOICBxREEBnNIFWdvDdPwIggv2RdmDqdMRp8VH3J5B/QmqLXIo0kL/OeOne+zI97Ov6qeGi86Vko5D++EYP2W/XTEr6yv3ccy1K5cr/RoCX9/DtWwHTlp4RXhMcbnsd1otVDR0l+5KlcnGcfMMf9jepN+PZMBj4Kz4HzU88lW9f0Gd7+EEm9T9EIY+MK/h52WSBT4MJLRD+PeJttZNTyerEoArZ2TThzJ/kMhtl7u3K5q+53ulrRDVTRrqlusmHsLRe2U8J6qGrgxdKilxdjjBEuOYY3wHdXHFqZ12DLsoC8uUi0G00+JDnuF/iwIr8rgXipRWjVffhgBExhSpmMWidFVGIhXYLt3d75ri1rMv8Slk40x+38ZHhTNvb9djQPGxw5x8qpwrkrIITF1EzmftDkWgPrP0TSKG808SSTsJPDVjoGPKojiHOPmKdykejTQNfnd156vHBofZHDw/FkOnYTlWdpsf676mlzWttQW4edpSO15qyydBbYfVx9APew0u727Z7ir3+Q6zF4iZWiKoXUW5JoaOiZkgR9fWm3dhHGkupZUBJ26ygX803GOHM/Tp/PmOCQtMqZE+KCoE1IElSplwzY+u7zlCVklp5h/hPweqwiINdPT7HaEkrz6xH0B7p/48ewBVBHXN0/dRcNibXAlWl5rpTOOkoPniSLzGz1n6x7xj7+NDcTLq4ztMqv8vpqEz10eN27C1qd9LLYeKwFevpDcYnypm1b+OGh7nLjupRQ6A10Gf9HUoQ6c72gl8upxABlNHAvZS7L4oK/5Uuh1szPoMA11OTucTUtz98ah5/XjUMke6SsrBX8p4TnSG7uv/7hKG7ssM6mQf9KZ6J2Ztiq+Y4vEuhU/87mVhFuiqGzn1ARgDvwD/AUiONsMnp5rsO2Z2gw/kGBq5SyQssMW35c+IVytDFevBXzo2UsvdWA1k+4C0KJlTLpkMnFEA8+M37dMA0uCutChkdj1apqwHf4obrSaOpzBcMjuk1Gr9xLQBYuFdv79W+x6nc+8UuhFMFwaKButjXIaudIkTey7rzo21vZJXy28BzBAd7lUwFJfZQNMz/KYC84muoct5AoPSrxLH4yPRbzwrnf8R1hO1CLzSo+ddiAuwZKieRqwtL2TfCC3RuEtfbTJ3tjA1f6jNEC19AUMfjHnvD/3YANMHCRcfJM1M11w5Pt6SVslHD/dGF2GvfZH9ssl/Ho4x5903vX/Ttv5DUTDWX1x8D7QiGA7hV/fvZ713H8ezliceDoPj+jH/UJk7pveiUslkXrkYoSug7+npnu/mnAjaUSmSU/F03hJ8K2nYWe8JwKMtV28NvLHJh045VmD5/O/mcdO1QMPaP1kj0u9iY2nBWWx8ajDCP48aHsUrArOMMsNJX0cydDqkGwsaFoUDuqb3IiqBhRHHGmBBe91M4tRe5Ac8jGAEf6nIpOaaCqMbsUkBe7CIhh+fWklbO45BcbEpPuZMZvZW9cPKAqeP+vGbiErbLIzYFJ/xWqyk0AzSlW58iErT0IJ23n9TiYAWWArf+6ZVWGDMYmMt5uTY5PvQVioaut9wMJNTt9pvoPdpARvGdhR88ONkMBYylpjQnAnO+OQxH7v35sJgpHANgV68O8AbZq5zj8JF3r95uDwMhLk2YTyFrlLYY4dsfNS85zuYoPi1A/zATee6G4/813Q8oJua3Gmj/RAajJGHTrvwHzRl0xYt1VdllPdP+dLBitdU/zQtESwMz9h/d8J3UQZWrRaGTiCWZ1Th/iGMlcyZyNg94pJ0TFDdkr4uRv5B6KfzHreDd1+Gx3myF1FT/TBpa+oaEtPyQi09YOgufVSE9szO+7oStX05p0Ia+dvPAw9d36W2XstHD2KSFM7Q/HPdA8Ti1fj+grlHuXBSYe9xqZVyT/qpWFc5vVBcSol9L9k1scl3uMpy9UO/8v1Cn7T3XPqBhU2YYyiESHR6wbn0hyiERDs5bY2DriQltzgEPo7+hYybnEtg7B5oVxGwXKS7HJ9KnXmOAPbWl+HjVgaJemWGtbBmzZqAPjyr88PTd9j48GTt36TgldWYamfoNgy+ToLlXEczdL/B68KodbXU4PV71eIog+m1wBohZcK4CFJjd9drwCucYddVxtCfxwbvJmyRDeuTfs8BJHLqkJN6rywZbprH2oarMgeO5XOpVXLYw/1U2wvb1e9dKUt7EyeIUVMZs5tPqZPCMq79INiIo2tZvF4ivz3eOjj9qA6bv50kXXyQQB4RRE0vkXZo535RIJXHxt4sMIngD4IFm2DyHZokc14Cw0yxzcF058lzPyk8la4wYFJqEEYlDzndIbW9h+FH+66xr/CphF/hOF0nkBX+yGD/pKfBuBq662f/NOljOv+k2Nj7/eZ2WEstD8NJNjOTX4UAIGORFm+jrQgBfgM8UTV0HQeCEz1DZ18L3Y5S2c277sJCJ7Tbzzh0pu2F9FeFFwQzOUBp4bkYYi10Ba8co2aPadDSS4auAhPaLzEcC/Y5H6EumSiJO4J5wNAH67fmR6/u3QOrSqV+u4y3n0feCrjw/TBFcrl9eWWJn8jKM7v1Pa5ktymu2rQNhm7vH96PPX3M+ryb8rEl3TXNjP6mhTt33Aub4eEsAb8qx01ww/XqhLHa2PZEcN0wM//YeDp/FZYEL6Ao7lyDcdP4nypDH0qfRcZHaBz+txi9x4XnzRH7vLmgiTGGHVzufSNDV7M5pvZu2nsW/UOCZfOSD2lt3oyKdk57Zbb+LOk7vM8rHKwQRzeh/Ok84YQPaVm/13fE0/Y1bFSxsXfq6TjgRXv8ngSUQLd6zmUdHn/rcxRAcRtIvk81Uo02bnxOU/syez4mWvy43bdvd4ezqIk5sVthmmhJVNNDSNsw843HYppiQ4DJRmnxm9SPdprrLo5IfE504TyBaUdgfFgyxHSa2mdjRhOc/bulfrix92Ha98UOrohM7xwWA++gGEs33fE0OQva5PufdRXHgeZf4SSj2NhtEo3t09ZcH92iGGyqxXOgpfSPIwgTu7U7Y7vRhV97dAk/K54hZy+bogcTlHFJio+UQqBfEAqTghFI7vSXOUI+PD43+uzMe7c/jPxueU9iL0Eg8lHjgrfg6QVNhQnNJoGnzntxFxl7wLtM9lDgBY2BTYJ+M+ewnESG85bt3LnX7GcufoI1wjnaEhRHKV98iRymk86Wh7BIASXJeS5Kc2do4arPNe0j9KDID4zCCYn5NeF8Etw4ShQBKCu261hESX61wkCwWu58By+Fw7qSfSkrDo4bZ8C7BTf1uQ72j3qXy1KpFCwRq4fbNH2mjGhb7Ct82Bc9Uy8OMKc4qlgVBVUwcNF5qxeas3vGXd0JWUn1PIPSl+6rtaF9epp/RRk69MZK4PfnAS7AhS64XWrZP3RU97oonf9177pEaw5xomDRAcavUmVRqVQymO3D3+/gKY3Cq3sPJbsJHhww9Lul5klIU+0HwaFp8Zu8nrz0he0KOTnO7VXF7/l2b3DnoVtHbx0/Bz/Ex9FNf6dSKFXnvKDPGexjjZvQps7QR9BnxPgomcvrOPQeC54zy3xeJkZVQg0Z49HeD2HortY6pzCRD9+ZvtlVJNNeTvVPK02Q+h0m1ZmdZ8aZvcNN/kqxgDqeEjwS63m8nmgBqMZbZRIcbfmcD+8XhrDu4rkforEye6KoYQDCvLypSBdRE1B9DmnwvPfvl3QwDZTRDb7pOfXvUrlt04f2i7RJIRVpG2xWcWLfjiQKPm6Si7kH89f90Imzqr1G90H1KwODwiTnXLlPNGRvbt6P5uVwCTTpdP5JUZJ/hs1BYIn/d/AONoZnXysMh1Ky7yByWuBn9l8QNtAoB8KZXxTB5h1Nzz0F+GiHMC4vSGHGkgpy2gfHdO39HMygtBnAdVgrQ5AqbOTBX3KHp8s9kgHhYYppENwco+QIy947Fe9hMCeFp+KIUIffj7GBrl4zoWLetzBDyvfXyFn3e2BUrodserNnqJUCTYQ+SPCRn6NYYTZ9cD+1G67XZ0pT7OCLyp3i1DXbfyw29mMIQm7eSE1/Nk0ZC3Dke5cHb++nSmEJyM/J5c534Og6itPec5nPjDnrjd8Ux/J99ZulMHR51s1FZer0LdQ69V7OPVAN0divr0vzRzl8BkqGaOhX3s8eJNbB8lnSMy8R90hQktr1k1r7rB3RIoN26hcvNXQ5VtUdNjSA6zXWBg29ko+eFWKK1ufKq+9ro/+8ZDB3PVwsBA3vL+EEWnr4HaVuWcfEGngN/T7WcdiGe6d5hxq6fWB4u919tRxRTOYcT2/GB1g8hxWg/o7y7xnn5gqqzonp3s/lMcatztCH08f1azcKipx9rvO6PmXdNHRwS41/KJ3GgCeHp5OepOH8auaY3HUkQ0cr8BP+XghdpqcFPUfilw06zVM2Gq8phn6vOjOXheUl2/uXE6Xtop575+MbY2EJOn7DkvrxST6F2adMj/IaXYD24NY/x7GJcliKyf/qzM2+ItkoQcM/548zPZ8AQTXxOXzcgQzcU8o2Sou3ySEs1Kw39j5fzemTfB/6hXXDFQ1AzlPPv4lQhZZd3/jDTVS0piTfTK1o4CMw8BxCExpmnMz9qHYazYXCMj69yuf26q+Dawif6nXRtH2XRKy6PsBEYOyzWBgYi/AddcarUAcw8bcXz4tML5FqVKm9Hw0Asykpm53EXknQUyjkLA7TVdk7WjwVRza7jil+H2sGmrjzCebSZywncWZfWApxAVMjGj02xbbYFHujxH4xntkhZSzBHz8j61r9jUqXxa6KE+1IxYky+y7M9/gj/Xg/4HG8Ag1n6Fgsd77zYr+OJGUws2+Qw3S22h8W3EetFRoslaEDT3E19hX+XAF8td437K6iJbvyyV/UIzh1g9a1hLDOvhQl+V3h8+5ZhN/edWq50CtzE01bDk0y+R7MzbRTpcId+2x3ONqLD7nEi2eafehCKRf867M0NB5A8eI4atxtWBqYf/JEECmv7ivnVml+v8Iaek3tboQbTvT0PvSdI/pxGAEOPGJT7BrR7pBaJLCgKr0djSXl+X0U7/F+9co40mfGF9cV79F9VFIuxxy3cm/083AUfRYZH0dy/X+S8KLE/tICn8XkmDmMdTRDT4uNToLyhUaM3RMl9mOYXqMkN2zkTLxS4lHTyXg4uuMKfdSyLiSl49CrX+SNvzdtKk3f1R9uYvjjPLdYGx+UFr6OicZH857L34ClfQvgwnwx85bt/LnhbCxsXHW3ABs/pn/eUX1u4F7wRzTe7dKZXHDaMGtE0/fk2Uuu/UV3PVyDiRQ/YTwB/vp9eK3DZOwRYKAJV9009ZnlwOTZo8EzZKDAop/QlY1cN5wKfrrp6hiSK++tIdJuEZoorJFXYNfgQDPGGrrV8+WH0m258x3kau8fu29LZegOMMyvDHKSPkJ/+uo/9F3q/Hu61+cWYBgvX4a4fC6EVV8n8mo/f4a3668t6V7DyZU9nn1EfR4rXL0yp1BIZE6VfaJk8uwjBsxcW9evo94/oI/SqXp178DFBX3H7cdi7Up3REDvcnx0HLbtXtBfcKOd72FZpni54+bgjKKP6/9i41Ol+ATgsWHHxn61DIYZj1E2acTDvluEoc9tLH3h/sxa/Mz48fAvYpLClCKBD6660bD3uO8dw9dAlgNo/0SVQjiVqqtEHPKXnFftz6r2C75s6dOIRDpv2rjKhrWbEGbTplVrrn+ygQhzLaMt9ZfBlTZ1BqG/8n3TJsTGWRFyZMMamMT1eZVMHZymc9H7a8UELhH17oQltHkERbG+bLEvBlblXQPg5d1w+G6Tl+cDZlY+OPxmLWPe2Hee0f4vDaaYfofReskwwaEaLzLojdKzYa7I+0O8g3vgyXzxcRADgOPfTWQsljnfBcupqdNYX7LGGvrf2JNlMXQPadx1HNC5EYf2y2NAgaY9aszXjjvOY4I7oZopg+sY+2qJmByHYS6d4Y/L0JUJE7AhlYIwR/k0CA1WGc3MwU0KObgzdaVPJt9ZSmbjbgwn1CgtFZkgZc3115nfRoLRgzXcQhGNfXruFeR6Yg6WRyu0W/COErr6tmNDZSY5jOIAgXnSYOzNsA7/KBZwidlqgBngqNp4if+QGxmXSdBnCHw93Yr3rPy7hiIx1g9Hw9B5gfZx2HWxMRn23Ci61Z+pv6P+e/3vRQkTzKkFz44xb+rPLPVv7c9iz2k/xm3XNF6ieI3oL7Cb/o16p+Lf9FwTDnVYw54b9n39+frfw56T7720QsSypM8QpOCiFxdnnOMz9vEZ+vgwh+OHn9T5uw5w8o9GyNbNxiPpcsr+OJjw5I67wg239uMLd4pvfLT5qL9WzcSS5mWsaOdxMvcRIScTs/3XUmAlKXC0DH0lcWthtxQ4FhRQ0yFnP0sKzcI8yuHMczwGfKwY+mGi9Ttm9kVEoRJUo9pi6Tc+FgRd5e/Q+cChNxptGlZ7cimEfXEBlCbRQPNeNzP7RA7AcdGmPaJcnwFJhpq9Vzm9WvRPIAq0DP0EGowWleNDAb8Z+wpf9xCgNmEt/ZgwdNJ8XI63q5ykxKxo5q2WqGRZ5Oq06Six7yWoDcbOyW6R2fmzwx6EuXOIg9RWJwaCdJzEvpL2LTMfRrX2+4lSoGXoEyVnC2yVUkB96a4ULId9SFm/o9XM9XnH0I39PL5ZNlsu0wAABV5JREFUNEA2f42WdcFTOychRLjKPqYnpQGJ7uRdMPRlBFOt0pGcENpe8JH80cRuhaGTqynCXmY/R6456V7x9NxrSB/hTADSmSgO43PF76OIjmDTClETGpQWzKIUaBn6oiRqG5wKFPCbLkyQoxl9xPtied7KsEdeRXOWgyTy65pIyXGXPspdg+JGwgvK/FXaqYYeZXONJ+7w7jO23PBIjdhuwqX9LqBAYEbvpnMbY2OvpLgINcQpIkPhkl/5gLtS6tVnItweZ3YLFQgFksBofecBVdvblaRAy9BXkrot7NVEAfWdkpcum7Omf43nJ68w1xrTPQLDjkzRi1P7Mv10iKJOe38IAxDNz71vFJzFfnOHKmS986Xc6cz8Uyim4upwF5s4yKVj8l+VMQmY1Woao2OOK4JeQCvKXfqyty91pVjzV2HV4ZALCp1Irq5HUufTMce5feGpS4GWoZ+6Y9/2fCEFdBPupr3Xk/I1MdN76sohEnSHWVbyy+X+bj2ycTFmPfbvPgYA3KWeL31w9cX9oRutCXjhwC/yjcyLgLGPar6UtqPgtL+1FFgyBVqGvmSStQ+c1BQYmEcp5wnzbT66r34E3hh/o4GTV1754KsvJmLar1kF9JQdV8/d2C9oScnyelKP4wp1zlelIyZBI9y5kk0ggW+tsLRChG/BjkWBlqGPRaa20alEAa+JYT6l5KpUWjNSJ3dsLXkBcz16s/0y3l0ccLEA+c6OufkHGEK1QJxKw9n2taXAKUOBlqGfMkPddnQJFFDGRypb19jCp4MdODEY9eLWAMzskmqV2LvXpbNPousayb8EMrRNWwq0FFhNFGgZ+moarRbXY0kBZYDdbPsTYmOtP15zFTD14gAFZqTy3Yz9GWi2WA3xY0nX9l0tBVoKrBAFWoa+QoRtwZ4UFFBG2L1ox+O6WXED59v6QDkOsV+GGXylnykOUNCEiPooK36cQcDHe1IMRtuJlgItBUZToGXoo+nT/tpSQDX10y+4/WGxya8hQt0z85UJZluWoCCBdYcRODhLm9KvjJwKJO0othRoKXAKUKBl6KfAILddPGoKqE8dQN3MvprUMPzqJ4C2fsT5y2/tSwBcYt+inVVBRP9ury0FWgqc5BRoGfpJPsBt9yZHAaLffVpSN82fFiX2i6S1ceb1cWDswsi7Wa+PVt41+Tdjk0fa2bZ2uFKivbYUOIUo0DL0U2iw265OgAL9tQPNt7+Wqm9RYu/ADC/lW+X88hXKK3em+MPksWMhENN/Zu+NTP66p791/qF0TiwJbS70BMa5BdFSYBVSoGXoq3DQWpSPOwUqJniz6/upLBcl9laqy7kUN9uPMzngBT/70QTQHaHwjLcA9Ileh5ETwR6lxdvO3Dz7g0qMgaCh37TXlgItBU4pCvT7a6O0+KM47f289HvM6oanFI3azrYUaKZAqK2vWRNNz39vtMW+ODb5dTBxGC9FabQUa2ysMmaY/OHYFJRmhdnrh79dGzR9Xy4WAUGC3dIeR3h+KU7mXnlWctNjFCdh5K1WruRory0FTl0KTE2dFmX25R0z/1QhQsvQT9250PZ8mRToVxk7UM5Kd/y0HK2ZzH0kTu1ufN2kk8GYyWdff9Gt/XVbbxEzPaZ67vkOAUDaXLZbBYG9sck/2U3t6/HbhyeliZWgXbDLHLT2sZYCJyMF+mu7mf0NTVltyzyfjGPc9unYUEAYe/9B9ZedvvmW7+sY+8vR9NxL4qR4e2yKq2JTfIaysrGxs7EpZjmyNTL236PEXhsn9oJukv9xvDWP1qU3SvpZCLPVyENqtPctBVoKVCgwNXVaKPhXfmv/aClwElPg/wPllzVxZrnNhwAAAABJRU5ErkJggg==)"
   ]
  },
  {
   "cell_type": "markdown",
   "metadata": {
    "id": "LgNY4Ko8sw7q"
   },
   "source": [
    "# U-Net Image Segmentation in Keras\n",
    "Author: Margaret Maynard-Reid ([@margaretmz](https://twitter.com/margaretmz))\n",
    "\n",
    "This Colab notebook is a U-Net implementation with TensorFlow 2 / Keras, trained for semantic segmentation on the Oxford-IIIT pet dataset.\n",
    "It is associated with the [U-Net Image Segmentation in Keras](https://www.pyimagesearch.com/2022/02/21/u-net-image-segmentation-in-keras/), a PyImageSearch blog post published on 2022-02-21.\n",
    "\n",
    "You may find this Colab notebooks in the author's GitHub repo [here]().\n",
    "\n",
    "Here are some helpful resources in case you are unfamiliar with Jupyter notebooks or Colab:\n",
    "*   [Jupyter Notebook User Interface](https://jupyter-notebook.readthedocs.io/en/stable/notebook.html#notebook-user-interface)\n",
    "*   [Overview of Google Colaboratory Features](https://colab.research.google.com/notebooks/basic_features_overview.ipynb).\n",
    "\n",
    "**Reference:**\n",
    "\n",
    "This notebook was inspirared by:\n",
    "* TensorFlow.org [image segmentation tutorial](https://www.tensorflow.org/tutorials/images/segmentation)\n",
    "* Coursera tensorflow advanced techniques\n",
    "\n",
    "Note: Keras.io also has a [U-Net tutorial](https://keras.io/examples/vision/oxford_pets_image_segmentation/) with the Oxford-IIIT pet dataset; however it uses `keras.utils.Sequence` for loading the data and has an Xception-style U-Net architecture."
   ]
  },
  {
   "cell_type": "markdown",
   "metadata": {
    "id": "cY6H4H4SdHJX"
   },
   "source": [
    "## Table of Contents"
   ]
  },
  {
   "cell_type": "markdown",
   "metadata": {
    "colab_type": "toc",
    "id": "KlDnyWWz002p"
   },
   "source": [
    ">[U-Net Image Segmentation in Keras](#scrollTo=LgNY4Ko8sw7q)\n",
    "\n",
    ">>[Table of Contents](#scrollTo=cY6H4H4SdHJX)\n",
    "\n",
    ">>[Setup](#scrollTo=53lnZ7YJe5Sw)\n",
    "\n",
    ">>[Data](#scrollTo=pX631zhEouf4)\n",
    "\n",
    ">>>[Load dataset from TFDS](#scrollTo=2AR5ZItbpc9R)\n",
    "\n",
    ">>>[Data preprocessing](#scrollTo=QM9zPoS4phZl)\n",
    "\n",
    ">>>[Data Visualization](#scrollTo=8zJZHJdc037v)\n",
    "\n",
    ">>[U-Net Building blocks](#scrollTo=OjBm4atL-i4i)\n",
    "\n",
    ">>[Build the U-Net Model](#scrollTo=dlcliXVXAk9v)\n",
    "\n",
    ">>[Compile and Train U-Net](#scrollTo=PG-KtNSWWtWW)\n",
    "\n",
    ">>[Learning curve from model history](#scrollTo=_bYfxa21Yj0f)\n",
    "\n",
    ">>[Predictions with U-Net model](#scrollTo=RiG2W81uaS94)\n",
    "\n"
   ]
  },
  {
   "cell_type": "markdown",
   "metadata": {
    "id": "53lnZ7YJe5Sw"
   },
   "source": [
    "## Setup"
   ]
  },
  {
   "cell_type": "code",
   "execution_count": 6,
   "metadata": {
    "id": "5M_beaaBpjNP"
   },
   "outputs": [],
   "source": [
    "# !pip install tensorflow\n",
    "# !pip install tensorflow_datasets\n",
    "import tensorflow as tf\n",
    "from tensorflow import keras\n",
    "from tensorflow.keras import layers\n",
    "import tensorflow_datasets as tfds\n",
    "import matplotlib.pyplot as plt\n",
    "import numpy as np"
   ]
  },
  {
   "cell_type": "markdown",
   "metadata": {
    "id": "pX631zhEouf4"
   },
   "source": [
    "## Data"
   ]
  },
  {
   "cell_type": "markdown",
   "metadata": {
    "id": "2AR5ZItbpc9R"
   },
   "source": [
    "### Load dataset from TFDS"
   ]
  },
  {
   "cell_type": "code",
   "execution_count": null,
   "metadata": {
    "colab": {
     "base_uri": "https://localhost:8080/",
     "height": 325,
     "referenced_widgets": [
      "23e94fd0de6e474ca8045d48077b4a54",
      "fd2b72c12dda4a1795d8e393e72e4ef9",
      "5314e625437a4063976fe92dd080057c",
      "6b5cc024c77b4db68e40355a7bb42cd2",
      "6ade743edc774108b72ce70904110f38",
      "7048ef40e4b8498ca0eaacec5a93c782",
      "32904c8ee03b4598a6de6dda4b17cf84",
      "7148b25353984792bd376b2e82339309",
      "118bd3d50d4e4b2b8297d0f821135f57",
      "cd91675d50f244de8c438a6ed5108975",
      "94cfb87411314d6ab5be41d2ff5e37c6",
      "7b8ccd636ecc44418fdcfb9deef219a7",
      "e3092bcf619649609cbc28ef15fa4d54",
      "6af765f25ec54d6dbc63f96b0576a3f1",
      "3442287cbd034122915e2627270aeb8d",
      "e593cde9c4224d12a7df6303bb4520a5",
      "481461d346cd473892fd1f2397183843",
      "88c304a2ffc542ccbfbb0dec0132d33d",
      "2dba6a79e1e0464aa83792f4bd8a7101",
      "9593757700bf466bb4f34268774c7ca0",
      "0a695a7240fe4c0a947cd36c1948d308",
      "34ea1291673344eebd58bd2d30b24610",
      "493022dc5889447784e6ec7b8eecdee0",
      "29358fe1830e4c6bb704f43569d36b7a",
      "a4800f0691a8494eb5d649320658c81e",
      "2d72975ea468400dac4bc799a6083008",
      "980868db6c6146a1b112e4e06a007485",
      "d1fa370418a44c8bb82b0a396933d01f",
      "da77bc1828e4496383647cad7e10cc91",
      "e0feb05decf142e98c38136fe132b510",
      "44643b8ca0634f57a9eba2cdda8a3e7b",
      "d29bb79ea1d94e4eb435571a64d3dfd3",
      "bde84761864b42d5b363c6bf0e56f5d3",
      "b79c18ac2ac649e9acfef24da6c2bea1",
      "8dc2fbeb0ff54b1aa5f1e6f6238123ce",
      "9532f2e6912844dfab406ac91b6e895c",
      "51672d2ad99c400f9c4084a45fbea913",
      "4bf384192418428e9d7b3c109341b714",
      "c35e15a21ab346f78df0446c194c777a",
      "73ccac3733cf41afa296e96d8f5ef1d8",
      "3c713bd0e9b6448497cb1e88a19c0314",
      "faca5258bd424812a0b7d616bcc4dec2",
      "36f86af274cb422ab1d901124f1f7615",
      "d2f4c9b04e81450e8f5d55550f36c75e",
      "ccaef92185a74b748f389a9bd5074886",
      "7ef3d95ea1ea496bb41897bef64c7e0e",
      "1c4b227491b54cf3ba64b320d291564e",
      "e751b62fc23043aa90d9e4efb1b98755",
      "8133a2e5f76945a1b07437c5b7aafdf8",
      "e638155ab996446788be094dc1c3011f",
      "3a2370ce20de45c1970b097ed4b5f5b4",
      "434add8136604c5e97f2117fbe59bb03",
      "9f20b24d23014117b35143c9545f3176",
      "637658d7b18141e08be0969585f9166b",
      "42ffc78949f543099bfcbff115c4d96b",
      "a08d8b079105466388c26633a8d70974",
      "d8f51298ecdd41048df73010c52f2fb5",
      "b0a0e6c1e5db4860b602bfdc85df05ab",
      "c294317c2ef14eab9f24cedceef42b4f",
      "1e6053ee2e12447b9f503e8e957590f1",
      "b62723af64f2441b97bb77c8503b3ac7",
      "74c13ee1deba474a95e8524e2b1b9524",
      "1b8a2344a0aa42b5b6687640932065d4",
      "344673b65f974322b52b5798a35134a5",
      "9f0e014b96d94f44a62dd5d35e219f56",
      "51f1211ea1174147b6ec96a192a3a72b",
      "e094e38289044c0b910893fb5220bd2b",
      "418781c840024c978a06801b4b406b70",
      "f0a59f69e83146b48989383a344576d4",
      "2553b6676e1945d19273c375b9b20261",
      "9949d9cd8ae64ba3ae79393dc1c56495",
      "7ca26a8a90a14dc491c74030d88b75e3",
      "708034d836fb4a5bb866b62e98d2c462",
      "eb46ba5f8309483ca2ecb62c8a2cca23",
      "d5aa8844ecc34244ae88f1611ca60406",
      "ab1c15377e8a4f4ea1823ac8b859d915",
      "f8c060236e074afd80676e0b8c1a0048"
     ]
    },
    "id": "rfkYfAbcqign",
    "outputId": "b0ea442e-7ad7-4c72-97f6-b10cae3d9b83"
   },
   "outputs": [],
   "source": [
    "# !jupyter notebook --ServerApp.iopub_msg_rate_limit=5000 --ServerApp.rate_limit_window=3\n",
    "dataset, info = tfds.load('oxford_iiit_pet:3.*.*', with_info=True)"
   ]
  },
  {
   "cell_type": "markdown",
   "metadata": {
    "id": "vOuWcmvxpLiV"
   },
   "source": [
    "Take a look at the dataset info. Note the `test` and `train` data split is already built in the dataset."
   ]
  },
  {
   "cell_type": "code",
   "execution_count": null,
   "metadata": {
    "colab": {
     "base_uri": "https://localhost:8080/"
    },
    "id": "peT2cyxCoxu_",
    "outputId": "818997bc-ae7b-4bfc-9b2e-8c59b25defa0"
   },
   "outputs": [],
   "source": [
    "print(info)"
   ]
  },
  {
   "cell_type": "code",
   "execution_count": null,
   "metadata": {
    "colab": {
     "base_uri": "https://localhost:8080/"
    },
    "id": "ajAbpevhSHO7",
    "outputId": "15d4eed5-2667-49fb-8236-80a6e85e3f4c"
   },
   "outputs": [],
   "source": [
    "print(dataset)"
   ]
  },
  {
   "cell_type": "code",
   "execution_count": null,
   "metadata": {
    "colab": {
     "base_uri": "https://localhost:8080/"
    },
    "id": "Zu97-gqfSKlJ",
    "outputId": "22dc5d68-e049-42b3-8a67-e488a726ff46"
   },
   "outputs": [],
   "source": [
    "print(dataset[\"train\"])"
   ]
  },
  {
   "cell_type": "markdown",
   "metadata": {
    "id": "QM9zPoS4phZl"
   },
   "source": [
    "### Data preprocessing"
   ]
  },
  {
   "cell_type": "code",
   "execution_count": null,
   "metadata": {
    "id": "dKWyGkyKtzvg"
   },
   "outputs": [],
   "source": [
    "def resize(input_image, input_mask):\n",
    "    input_image = tf.image.resize(input_image, (128, 128), method=\"nearest\")\n",
    "    input_mask = tf.image.resize(input_mask, (128, 128), method=\"nearest\")\n",
    "\n",
    "    return input_image, input_mask"
   ]
  },
  {
   "cell_type": "code",
   "execution_count": null,
   "metadata": {
    "id": "b-KH8F5OpksN"
   },
   "outputs": [],
   "source": [
    "def augment(input_image, input_mask):\n",
    "    if tf.random.uniform(()) > 0.5:\n",
    "        # Random flipping of the image and mask\n",
    "        input_image = tf.image.flip_left_right(input_image)\n",
    "        input_mask = tf.image.flip_left_right(input_mask)\n",
    "\n",
    "    return input_image, input_mask"
   ]
  },
  {
   "cell_type": "code",
   "execution_count": null,
   "metadata": {
    "id": "g66ibVT9txXn"
   },
   "outputs": [],
   "source": [
    "def normalize(input_image, input_mask):\n",
    "    input_image = tf.cast(input_image, tf.float32) / 255.0\n",
    "    input_mask -= 1\n",
    "\n",
    "    return input_image, input_mask"
   ]
  },
  {
   "cell_type": "code",
   "execution_count": null,
   "metadata": {
    "id": "IMF269tZCw04"
   },
   "outputs": [],
   "source": [
    "def load_image_train(datapoint):\n",
    "    input_image = datapoint[\"image\"]\n",
    "    input_mask = datapoint[\"segmentation_mask\"]\n",
    "    input_image, input_mask = resize(input_image, input_mask)\n",
    "    input_image, input_mask = augment(input_image, input_mask)\n",
    "    input_image, input_mask = normalize(input_image, input_mask)\n",
    "\n",
    "    return input_image, input_mask"
   ]
  },
  {
   "cell_type": "code",
   "execution_count": null,
   "metadata": {
    "id": "r7KKBzbPDeWa"
   },
   "outputs": [],
   "source": [
    "def load_image_test(datapoint):\n",
    "    input_image = datapoint[\"image\"]\n",
    "    input_mask = datapoint[\"segmentation_mask\"]\n",
    "    input_image, input_mask = resize(input_image, input_mask)\n",
    "    input_image, input_mask = normalize(input_image, input_mask)\n",
    "\n",
    "    return input_image, input_mask"
   ]
  },
  {
   "cell_type": "code",
   "execution_count": null,
   "metadata": {
    "id": "xmxyjrKFx9A7"
   },
   "outputs": [],
   "source": [
    "train_dataset = dataset[\"train\"].map(load_image_train, num_parallel_calls=tf.data.AUTOTUNE)\n",
    "test_dataset = dataset[\"test\"].map(load_image_test, num_parallel_calls=tf.data.AUTOTUNE)"
   ]
  },
  {
   "cell_type": "code",
   "execution_count": null,
   "metadata": {
    "colab": {
     "base_uri": "https://localhost:8080/"
    },
    "id": "ePza1Q_iS54U",
    "outputId": "52a49c54-399d-4e2b-a680-808a9b848c75"
   },
   "outputs": [],
   "source": [
    "print(train_dataset)"
   ]
  },
  {
   "cell_type": "markdown",
   "metadata": {
    "id": "ejYOHxHOeOGK"
   },
   "source": [
    "Create train, validation and test batches. Note we split the original `test_dataset` into validation and test batches."
   ]
  },
  {
   "cell_type": "code",
   "execution_count": null,
   "metadata": {
    "id": "yYaUom6ox40P"
   },
   "outputs": [],
   "source": [
    "BATCH_SIZE = 64\n",
    "BUFFER_SIZE = 1000"
   ]
  },
  {
   "cell_type": "code",
   "execution_count": null,
   "metadata": {
    "id": "S7tEhNbAx5an"
   },
   "outputs": [],
   "source": [
    "train_batches = train_dataset.cache().shuffle(BUFFER_SIZE).batch(BATCH_SIZE).repeat()\n",
    "train_batches = train_batches.prefetch(buffer_size=tf.data.experimental.AUTOTUNE)\n",
    "validation_batches = test_dataset.take(3000).batch(BATCH_SIZE)\n",
    "test_batches = test_dataset.skip(3000).take(669).batch(BATCH_SIZE)"
   ]
  },
  {
   "cell_type": "code",
   "execution_count": null,
   "metadata": {
    "colab": {
     "base_uri": "https://localhost:8080/"
    },
    "id": "Y2xC8yNCTB6o",
    "outputId": "a3063cec-bb9b-40a5-bd6b-6e0783389f0c"
   },
   "outputs": [],
   "source": [
    "print(train_batches)"
   ]
  },
  {
   "cell_type": "markdown",
   "metadata": {
    "id": "8zJZHJdc037v"
   },
   "source": [
    "### Data Visualization"
   ]
  },
  {
   "cell_type": "code",
   "execution_count": null,
   "metadata": {
    "id": "3N2RPAAW9q4W"
   },
   "outputs": [],
   "source": [
    "def display(display_list):\n",
    "  plt.figure(figsize=(15, 15))\n",
    "\n",
    "  title = [\"Input Image\", \"True Mask\", \"Predicted Mask\"]\n",
    "\n",
    "  for i in range(len(display_list)):\n",
    "    plt.subplot(1, len(display_list), i+1)\n",
    "    plt.title(title[i])\n",
    "    plt.imshow(tf.keras.utils.array_to_img(display_list[i]))\n",
    "    plt.axis(\"off\")\n",
    "  plt.show()"
   ]
  },
  {
   "cell_type": "code",
   "execution_count": null,
   "metadata": {
    "colab": {
     "base_uri": "https://localhost:8080/",
     "height": 426
    },
    "id": "2Xfx2tVwvJn-",
    "outputId": "df662ce5-a1e7-478a-ffbe-a31f2c2674d0"
   },
   "outputs": [],
   "source": [
    "sample_batch = next(iter(test_batches))\n",
    "random_index = np.random.choice(sample_batch[0].shape[0])\n",
    "sample_image, sample_mask = sample_batch[0][random_index], sample_batch[1][random_index]\n",
    "display([sample_image, sample_mask])"
   ]
  },
  {
   "cell_type": "markdown",
   "metadata": {
    "id": "OjBm4atL-i4i"
   },
   "source": [
    "## U-Net Building blocks\n",
    "Create the building blocks for making the components U-Net model."
   ]
  },
  {
   "cell_type": "code",
   "execution_count": null,
   "metadata": {
    "id": "CpBaxoS4LBuo"
   },
   "outputs": [],
   "source": [
    "def double_conv_block(x, n_filters):\n",
    "\n",
    "    # Conv2D then ReLU activation\n",
    "    x = layers.Conv2D(n_filters, 3, padding = \"same\", activation = \"relu\", kernel_initializer = \"he_normal\")(x)\n",
    "    # Conv2D then ReLU activation\n",
    "    x = layers.Conv2D(n_filters, 3, padding = \"same\", activation = \"relu\", kernel_initializer = \"he_normal\")(x)\n",
    "\n",
    "    return x"
   ]
  },
  {
   "cell_type": "code",
   "execution_count": null,
   "metadata": {
    "id": "Z85XYNyl0sxs"
   },
   "outputs": [],
   "source": [
    "def downsample_block(x, n_filters):\n",
    "    f = double_conv_block(x, n_filters)\n",
    "    p = layers.MaxPool2D(2)(f)\n",
    "    p = layers.Dropout(0.3)(p)\n",
    "\n",
    "    return f, p"
   ]
  },
  {
   "cell_type": "code",
   "execution_count": null,
   "metadata": {
    "id": "_L_TF4djF8FY"
   },
   "outputs": [],
   "source": [
    "def upsample_block(x, conv_features, n_filters):\n",
    "    # upsample\n",
    "    x = layers.Conv2DTranspose(n_filters, 3, 2, padding=\"same\")(x)\n",
    "    # concatenate\n",
    "    x = layers.concatenate([x, conv_features])\n",
    "    # dropout\n",
    "    x = layers.Dropout(0.3)(x)\n",
    "    # Conv2D twice with ReLU activation\n",
    "    x = double_conv_block(x, n_filters)\n",
    "\n",
    "    return x"
   ]
  },
  {
   "cell_type": "markdown",
   "metadata": {
    "id": "dlcliXVXAk9v"
   },
   "source": [
    "## Build the U-Net Model"
   ]
  },
  {
   "cell_type": "code",
   "execution_count": null,
   "metadata": {
    "id": "YVKF2gcfGAMW"
   },
   "outputs": [],
   "source": [
    "def build_unet_model():\n",
    "\n",
    "    # inputs\n",
    "    inputs = layers.Input(shape=(128,128,3))\n",
    "\n",
    "    # encoder: contracting path - downsample\n",
    "    # 1 - downsample\n",
    "    f1, p1 = downsample_block(inputs, 64)\n",
    "    # 2 - downsample\n",
    "    f2, p2 = downsample_block(p1, 128)\n",
    "    # 3 - downsample\n",
    "    f3, p3 = downsample_block(p2, 256)\n",
    "    # 4 - downsample\n",
    "    f4, p4 = downsample_block(p3, 512)\n",
    "\n",
    "    # 5 - bottleneck\n",
    "    bottleneck = double_conv_block(p4, 1024)\n",
    "\n",
    "    # decoder: expanding path - upsample\n",
    "    # 6 - upsample\n",
    "    u6 = upsample_block(bottleneck, f4, 512)\n",
    "    # 7 - upsample\n",
    "    u7 = upsample_block(u6, f3, 256)\n",
    "    # 8 - upsample\n",
    "    u8 = upsample_block(u7, f2, 128)\n",
    "    # 9 - upsample\n",
    "    u9 = upsample_block(u8, f1, 64)\n",
    "\n",
    "    # outputs\n",
    "    outputs = layers.Conv2D(3, 1, padding=\"same\", activation = \"softmax\")(u9)\n",
    "\n",
    "    # unet model with Keras Functional API\n",
    "    unet_model = tf.keras.Model(inputs, outputs, name=\"U-Net\")\n",
    "\n",
    "    return unet_model"
   ]
  },
  {
   "cell_type": "code",
   "execution_count": null,
   "metadata": {
    "id": "QLDFEsfpTjzL"
   },
   "outputs": [],
   "source": [
    "unet_model = build_unet_model()"
   ]
  },
  {
   "cell_type": "code",
   "execution_count": null,
   "metadata": {
    "colab": {
     "base_uri": "https://localhost:8080/"
    },
    "id": "Wcx_Dk5Na5Tz",
    "outputId": "3b6baeff-071e-48f4-f3f0-6fa3045f7100"
   },
   "outputs": [],
   "source": [
    "unet_model.summary()"
   ]
  },
  {
   "cell_type": "code",
   "execution_count": null,
   "metadata": {
    "colab": {
     "base_uri": "https://localhost:8080/",
     "height": 1000
    },
    "id": "i_EiHZhsTosv",
    "outputId": "27d9b14d-9bca-44fc-fdf3-870b6a043df6"
   },
   "outputs": [],
   "source": [
    "tf.keras.utils.plot_model(unet_model, show_shapes=True)"
   ]
  },
  {
   "cell_type": "markdown",
   "metadata": {
    "id": "PG-KtNSWWtWW"
   },
   "source": [
    "## Compile and Train U-Net"
   ]
  },
  {
   "cell_type": "code",
   "execution_count": null,
   "metadata": {
    "id": "uckkCSj5TpxD"
   },
   "outputs": [],
   "source": [
    "unet_model.compile(optimizer=tf.keras.optimizers.Adam(),\n",
    "                   loss=\"sparse_categorical_crossentropy\",\n",
    "                   metrics=\"accuracy\")"
   ]
  },
  {
   "cell_type": "code",
   "execution_count": null,
   "metadata": {
    "colab": {
     "base_uri": "https://localhost:8080/"
    },
    "id": "PgpxdZ9CXckX",
    "outputId": "def9f944-0be3-460a-d7fc-5fef4b313764"
   },
   "outputs": [],
   "source": [
    "NUM_EPOCHS = 20\n",
    "\n",
    "TRAIN_LENGTH = info.splits[\"train\"].num_examples\n",
    "STEPS_PER_EPOCH = TRAIN_LENGTH // BATCH_SIZE\n",
    "\n",
    "VAL_SUBSPLITS = 5\n",
    "TEST_LENTH = info.splits[\"test\"].num_examples\n",
    "VALIDATION_STEPS = TEST_LENTH // BATCH_SIZE // VAL_SUBSPLITS\n",
    "\n",
    "model_history = unet_model.fit(train_batches,\n",
    "                               epochs=NUM_EPOCHS,\n",
    "                               steps_per_epoch=STEPS_PER_EPOCH,\n",
    "                               validation_steps=VALIDATION_STEPS,\n",
    "                               validation_data=validation_batches)"
   ]
  },
  {
   "cell_type": "markdown",
   "metadata": {
    "id": "_bYfxa21Yj0f"
   },
   "source": [
    "## Learning curve from model history"
   ]
  },
  {
   "cell_type": "code",
   "execution_count": null,
   "metadata": {
    "id": "G7Y_jGMnXfpS"
   },
   "outputs": [],
   "source": [
    "def display_learning_curves(history):\n",
    "    acc = history.history[\"accuracy\"]\n",
    "    val_acc = history.history[\"val_accuracy\"]\n",
    "\n",
    "    loss = history.history[\"loss\"]\n",
    "    val_loss = history.history[\"val_loss\"]\n",
    "\n",
    "    epochs_range = range(NUM_EPOCHS)\n",
    "\n",
    "    fig = plt.figure(figsize=(12,6))\n",
    "\n",
    "    plt.subplot(1,2,1)\n",
    "    plt.plot(epochs_range, acc, label=\"train accuracy\")\n",
    "    plt.plot(epochs_range, val_acc, label=\"validataion accuracy\")\n",
    "    plt.title(\"Accuracy\")\n",
    "    plt.xlabel(\"Epoch\")\n",
    "    plt.ylabel(\"Accuracy\")\n",
    "    plt.legend(loc=\"lower right\")\n",
    "\n",
    "    plt.subplot(1,2,2)\n",
    "    plt.plot(epochs_range, loss, label=\"train loss\")\n",
    "    plt.plot(epochs_range, val_loss, label=\"validataion loss\")\n",
    "    plt.title(\"Loss\")\n",
    "    plt.xlabel(\"Epoch\")\n",
    "    plt.ylabel(\"Loss\")\n",
    "    plt.legend(loc=\"upper right\")\n",
    "\n",
    "    fig.tight_layout()\n",
    "    plt.show()"
   ]
  },
  {
   "cell_type": "code",
   "execution_count": null,
   "metadata": {
    "colab": {
     "base_uri": "https://localhost:8080/",
     "height": 441
    },
    "id": "biiorjmjYF6O",
    "outputId": "41952cca-f7ee-4110-8695-1019b91d3932"
   },
   "outputs": [],
   "source": [
    "# Display learning curves\n",
    "display_learning_curves(unet_model.history)"
   ]
  },
  {
   "cell_type": "markdown",
   "metadata": {
    "id": "RiG2W81uaS94"
   },
   "source": [
    "## Predictions with U-Net model\n",
    "Let's try the trained U-Net model on a few samples from the test dataset."
   ]
  },
  {
   "cell_type": "code",
   "execution_count": null,
   "metadata": {
    "id": "Ut1b84xKaDNz"
   },
   "outputs": [],
   "source": [
    "def create_mask(pred_mask):\n",
    "  pred_mask = tf.argmax(pred_mask, axis=-1)\n",
    "  pred_mask = pred_mask[..., tf.newaxis]\n",
    "  return pred_mask[0]"
   ]
  },
  {
   "cell_type": "code",
   "execution_count": null,
   "metadata": {
    "id": "5RdyAnTbZpAH"
   },
   "outputs": [],
   "source": [
    "def show_predictions(dataset=None, num=1):\n",
    "  if dataset:\n",
    "    for image, mask in dataset.take(num):\n",
    "      pred_mask = unet_model.predict(image)\n",
    "      display([image[0], mask[0], create_mask(pred_mask)])\n",
    "  else:\n",
    "    display([sample_image, sample_mask,\n",
    "             create_mask(model.predict(sample_image[tf.newaxis, ...]))])"
   ]
  },
  {
   "cell_type": "code",
   "execution_count": null,
   "metadata": {
    "colab": {
     "base_uri": "https://localhost:8080/"
    },
    "id": "V0OPiaEJzBeB",
    "outputId": "7224cb81-cb76-4a69-cc68-b95e4080f092"
   },
   "outputs": [],
   "source": [
    "count = 0\n",
    "for i in test_batches:\n",
    "    count +=1\n",
    "print(\"number of batches:\", count)"
   ]
  },
  {
   "cell_type": "code",
   "execution_count": null,
   "metadata": {
    "colab": {
     "base_uri": "https://localhost:8080/",
     "height": 844
    },
    "id": "sm63IU5OZ1wR",
    "outputId": "53eed660-0751-4ded-a390-090087dbb5fc"
   },
   "outputs": [],
   "source": [
    "show_predictions(test_batches.skip(5), 3)"
   ]
  }
 ],
 "metadata": {
  "accelerator": "GPU",
  "colab": {
   "name": "unet_pet_segmentation.ipynb",
   "provenance": []
  },
  "kernelspec": {
   "display_name": "Python 3 (ipykernel)",
   "language": "python",
   "name": "python3"
  },
  "language_info": {
   "codemirror_mode": {
    "name": "ipython",
    "version": 3
   },
   "file_extension": ".py",
   "mimetype": "text/x-python",
   "name": "python",
   "nbconvert_exporter": "python",
   "pygments_lexer": "ipython3",
   "version": "3.12.4"
  },
  "widgets": {
   "application/vnd.jupyter.widget-state+json": {
    "0a695a7240fe4c0a947cd36c1948d308": {
     "model_module": "@jupyter-widgets/controls",
     "model_module_version": "1.5.0",
     "model_name": "DescriptionStyleModel",
     "state": {
      "_model_module": "@jupyter-widgets/controls",
      "_model_module_version": "1.5.0",
      "_model_name": "DescriptionStyleModel",
      "_view_count": null,
      "_view_module": "@jupyter-widgets/base",
      "_view_module_version": "1.2.0",
      "_view_name": "StyleView",
      "description_width": ""
     }
    },
    "118bd3d50d4e4b2b8297d0f821135f57": {
     "model_module": "@jupyter-widgets/base",
     "model_module_version": "1.2.0",
     "model_name": "LayoutModel",
     "state": {
      "_model_module": "@jupyter-widgets/base",
      "_model_module_version": "1.2.0",
      "_model_name": "LayoutModel",
      "_view_count": null,
      "_view_module": "@jupyter-widgets/base",
      "_view_module_version": "1.2.0",
      "_view_name": "LayoutView",
      "align_content": null,
      "align_items": null,
      "align_self": null,
      "border": null,
      "bottom": null,
      "display": null,
      "flex": null,
      "flex_flow": null,
      "grid_area": null,
      "grid_auto_columns": null,
      "grid_auto_flow": null,
      "grid_auto_rows": null,
      "grid_column": null,
      "grid_gap": null,
      "grid_row": null,
      "grid_template_areas": null,
      "grid_template_columns": null,
      "grid_template_rows": null,
      "height": null,
      "justify_content": null,
      "justify_items": null,
      "left": null,
      "margin": null,
      "max_height": null,
      "max_width": null,
      "min_height": null,
      "min_width": null,
      "object_fit": null,
      "object_position": null,
      "order": null,
      "overflow": null,
      "overflow_x": null,
      "overflow_y": null,
      "padding": null,
      "right": null,
      "top": null,
      "visibility": null,
      "width": "20px"
     }
    },
    "1b8a2344a0aa42b5b6687640932065d4": {
     "model_module": "@jupyter-widgets/controls",
     "model_module_version": "1.5.0",
     "model_name": "ProgressStyleModel",
     "state": {
      "_model_module": "@jupyter-widgets/controls",
      "_model_module_version": "1.5.0",
      "_model_name": "ProgressStyleModel",
      "_view_count": null,
      "_view_module": "@jupyter-widgets/base",
      "_view_module_version": "1.2.0",
      "_view_name": "StyleView",
      "bar_color": null,
      "description_width": ""
     }
    },
    "1c4b227491b54cf3ba64b320d291564e": {
     "model_module": "@jupyter-widgets/controls",
     "model_module_version": "1.5.0",
     "model_name": "HTMLModel",
     "state": {
      "_dom_classes": [],
      "_model_module": "@jupyter-widgets/controls",
      "_model_module_version": "1.5.0",
      "_model_name": "HTMLModel",
      "_view_count": null,
      "_view_module": "@jupyter-widgets/controls",
      "_view_module_version": "1.5.0",
      "_view_name": "HTMLView",
      "description": "",
      "description_tooltip": null,
      "layout": "IPY_MODEL_3a2370ce20de45c1970b097ed4b5f5b4",
      "placeholder": "​",
      "style": "IPY_MODEL_e638155ab996446788be094dc1c3011f",
      "value": "100%"
     }
    },
    "1e6053ee2e12447b9f503e8e957590f1": {
     "model_module": "@jupyter-widgets/controls",
     "model_module_version": "1.5.0",
     "model_name": "HTMLModel",
     "state": {
      "_dom_classes": [],
      "_model_module": "@jupyter-widgets/controls",
      "_model_module_version": "1.5.0",
      "_model_name": "HTMLModel",
      "_view_count": null,
      "_view_module": "@jupyter-widgets/controls",
      "_view_module_version": "1.5.0",
      "_view_name": "HTMLView",
      "description": "",
      "description_tooltip": null,
      "layout": "IPY_MODEL_51f1211ea1174147b6ec96a192a3a72b",
      "placeholder": "​",
      "style": "IPY_MODEL_9f0e014b96d94f44a62dd5d35e219f56",
      "value": " 3648/0 [00:02&lt;00:00, 1380.80 examples/s]"
     }
    },
    "23e94fd0de6e474ca8045d48077b4a54": {
     "model_module": "@jupyter-widgets/controls",
     "model_module_version": "1.5.0",
     "model_name": "HBoxModel",
     "state": {
      "_dom_classes": [],
      "_model_module": "@jupyter-widgets/controls",
      "_model_module_version": "1.5.0",
      "_model_name": "HBoxModel",
      "_view_count": null,
      "_view_module": "@jupyter-widgets/controls",
      "_view_module_version": "1.5.0",
      "_view_name": "HBoxView",
      "box_style": "",
      "children": [
       "IPY_MODEL_5314e625437a4063976fe92dd080057c",
       "IPY_MODEL_6b5cc024c77b4db68e40355a7bb42cd2",
       "IPY_MODEL_6ade743edc774108b72ce70904110f38"
      ],
      "layout": "IPY_MODEL_fd2b72c12dda4a1795d8e393e72e4ef9"
     }
    },
    "2553b6676e1945d19273c375b9b20261": {
     "model_module": "@jupyter-widgets/controls",
     "model_module_version": "1.5.0",
     "model_name": "FloatProgressModel",
     "state": {
      "_dom_classes": [],
      "_model_module": "@jupyter-widgets/controls",
      "_model_module_version": "1.5.0",
      "_model_name": "FloatProgressModel",
      "_view_count": null,
      "_view_module": "@jupyter-widgets/controls",
      "_view_module_version": "1.5.0",
      "_view_name": "ProgressView",
      "bar_style": "danger",
      "description": "",
      "description_tooltip": null,
      "layout": "IPY_MODEL_d5aa8844ecc34244ae88f1611ca60406",
      "max": 3669,
      "min": 0,
      "orientation": "horizontal",
      "style": "IPY_MODEL_eb46ba5f8309483ca2ecb62c8a2cca23",
      "value": 3668
     }
    },
    "29358fe1830e4c6bb704f43569d36b7a": {
     "model_module": "@jupyter-widgets/base",
     "model_module_version": "1.2.0",
     "model_name": "LayoutModel",
     "state": {
      "_model_module": "@jupyter-widgets/base",
      "_model_module_version": "1.2.0",
      "_model_name": "LayoutModel",
      "_view_count": null,
      "_view_module": "@jupyter-widgets/base",
      "_view_module_version": "1.2.0",
      "_view_name": "LayoutView",
      "align_content": null,
      "align_items": null,
      "align_self": null,
      "border": null,
      "bottom": null,
      "display": null,
      "flex": null,
      "flex_flow": null,
      "grid_area": null,
      "grid_auto_columns": null,
      "grid_auto_flow": null,
      "grid_auto_rows": null,
      "grid_column": null,
      "grid_gap": null,
      "grid_row": null,
      "grid_template_areas": null,
      "grid_template_columns": null,
      "grid_template_rows": null,
      "height": null,
      "justify_content": null,
      "justify_items": null,
      "left": null,
      "margin": null,
      "max_height": null,
      "max_width": null,
      "min_height": null,
      "min_width": null,
      "object_fit": null,
      "object_position": null,
      "order": null,
      "overflow": null,
      "overflow_x": null,
      "overflow_y": null,
      "padding": null,
      "right": null,
      "top": null,
      "visibility": null,
      "width": null
     }
    },
    "2d72975ea468400dac4bc799a6083008": {
     "model_module": "@jupyter-widgets/controls",
     "model_module_version": "1.5.0",
     "model_name": "FloatProgressModel",
     "state": {
      "_dom_classes": [],
      "_model_module": "@jupyter-widgets/controls",
      "_model_module_version": "1.5.0",
      "_model_name": "FloatProgressModel",
      "_view_count": null,
      "_view_module": "@jupyter-widgets/controls",
      "_view_module_version": "1.5.0",
      "_view_name": "ProgressView",
      "bar_style": "success",
      "description": "",
      "description_tooltip": null,
      "layout": "IPY_MODEL_44643b8ca0634f57a9eba2cdda8a3e7b",
      "max": 1,
      "min": 0,
      "orientation": "horizontal",
      "style": "IPY_MODEL_e0feb05decf142e98c38136fe132b510",
      "value": 1
     }
    },
    "2dba6a79e1e0464aa83792f4bd8a7101": {
     "model_module": "@jupyter-widgets/controls",
     "model_module_version": "1.5.0",
     "model_name": "ProgressStyleModel",
     "state": {
      "_model_module": "@jupyter-widgets/controls",
      "_model_module_version": "1.5.0",
      "_model_name": "ProgressStyleModel",
      "_view_count": null,
      "_view_module": "@jupyter-widgets/base",
      "_view_module_version": "1.2.0",
      "_view_name": "StyleView",
      "bar_color": null,
      "description_width": ""
     }
    },
    "32904c8ee03b4598a6de6dda4b17cf84": {
     "model_module": "@jupyter-widgets/base",
     "model_module_version": "1.2.0",
     "model_name": "LayoutModel",
     "state": {
      "_model_module": "@jupyter-widgets/base",
      "_model_module_version": "1.2.0",
      "_model_name": "LayoutModel",
      "_view_count": null,
      "_view_module": "@jupyter-widgets/base",
      "_view_module_version": "1.2.0",
      "_view_name": "LayoutView",
      "align_content": null,
      "align_items": null,
      "align_self": null,
      "border": null,
      "bottom": null,
      "display": null,
      "flex": null,
      "flex_flow": null,
      "grid_area": null,
      "grid_auto_columns": null,
      "grid_auto_flow": null,
      "grid_auto_rows": null,
      "grid_column": null,
      "grid_gap": null,
      "grid_row": null,
      "grid_template_areas": null,
      "grid_template_columns": null,
      "grid_template_rows": null,
      "height": null,
      "justify_content": null,
      "justify_items": null,
      "left": null,
      "margin": null,
      "max_height": null,
      "max_width": null,
      "min_height": null,
      "min_width": null,
      "object_fit": null,
      "object_position": null,
      "order": null,
      "overflow": null,
      "overflow_x": null,
      "overflow_y": null,
      "padding": null,
      "right": null,
      "top": null,
      "visibility": null,
      "width": null
     }
    },
    "3442287cbd034122915e2627270aeb8d": {
     "model_module": "@jupyter-widgets/controls",
     "model_module_version": "1.5.0",
     "model_name": "FloatProgressModel",
     "state": {
      "_dom_classes": [],
      "_model_module": "@jupyter-widgets/controls",
      "_model_module_version": "1.5.0",
      "_model_name": "FloatProgressModel",
      "_view_count": null,
      "_view_module": "@jupyter-widgets/controls",
      "_view_module_version": "1.5.0",
      "_view_name": "ProgressView",
      "bar_style": "success",
      "description": "",
      "description_tooltip": null,
      "layout": "IPY_MODEL_9593757700bf466bb4f34268774c7ca0",
      "max": 1,
      "min": 0,
      "orientation": "horizontal",
      "style": "IPY_MODEL_2dba6a79e1e0464aa83792f4bd8a7101",
      "value": 1
     }
    },
    "344673b65f974322b52b5798a35134a5": {
     "model_module": "@jupyter-widgets/base",
     "model_module_version": "1.2.0",
     "model_name": "LayoutModel",
     "state": {
      "_model_module": "@jupyter-widgets/base",
      "_model_module_version": "1.2.0",
      "_model_name": "LayoutModel",
      "_view_count": null,
      "_view_module": "@jupyter-widgets/base",
      "_view_module_version": "1.2.0",
      "_view_name": "LayoutView",
      "align_content": null,
      "align_items": null,
      "align_self": null,
      "border": null,
      "bottom": null,
      "display": null,
      "flex": null,
      "flex_flow": null,
      "grid_area": null,
      "grid_auto_columns": null,
      "grid_auto_flow": null,
      "grid_auto_rows": null,
      "grid_column": null,
      "grid_gap": null,
      "grid_row": null,
      "grid_template_areas": null,
      "grid_template_columns": null,
      "grid_template_rows": null,
      "height": null,
      "justify_content": null,
      "justify_items": null,
      "left": null,
      "margin": null,
      "max_height": null,
      "max_width": null,
      "min_height": null,
      "min_width": null,
      "object_fit": null,
      "object_position": null,
      "order": null,
      "overflow": null,
      "overflow_x": null,
      "overflow_y": null,
      "padding": null,
      "right": null,
      "top": null,
      "visibility": null,
      "width": "20px"
     }
    },
    "34ea1291673344eebd58bd2d30b24610": {
     "model_module": "@jupyter-widgets/base",
     "model_module_version": "1.2.0",
     "model_name": "LayoutModel",
     "state": {
      "_model_module": "@jupyter-widgets/base",
      "_model_module_version": "1.2.0",
      "_model_name": "LayoutModel",
      "_view_count": null,
      "_view_module": "@jupyter-widgets/base",
      "_view_module_version": "1.2.0",
      "_view_name": "LayoutView",
      "align_content": null,
      "align_items": null,
      "align_self": null,
      "border": null,
      "bottom": null,
      "display": null,
      "flex": null,
      "flex_flow": null,
      "grid_area": null,
      "grid_auto_columns": null,
      "grid_auto_flow": null,
      "grid_auto_rows": null,
      "grid_column": null,
      "grid_gap": null,
      "grid_row": null,
      "grid_template_areas": null,
      "grid_template_columns": null,
      "grid_template_rows": null,
      "height": null,
      "justify_content": null,
      "justify_items": null,
      "left": null,
      "margin": null,
      "max_height": null,
      "max_width": null,
      "min_height": null,
      "min_width": null,
      "object_fit": null,
      "object_position": null,
      "order": null,
      "overflow": null,
      "overflow_x": null,
      "overflow_y": null,
      "padding": null,
      "right": null,
      "top": null,
      "visibility": null,
      "width": null
     }
    },
    "36f86af274cb422ab1d901124f1f7615": {
     "model_module": "@jupyter-widgets/controls",
     "model_module_version": "1.5.0",
     "model_name": "DescriptionStyleModel",
     "state": {
      "_model_module": "@jupyter-widgets/controls",
      "_model_module_version": "1.5.0",
      "_model_name": "DescriptionStyleModel",
      "_view_count": null,
      "_view_module": "@jupyter-widgets/base",
      "_view_module_version": "1.2.0",
      "_view_name": "StyleView",
      "description_width": ""
     }
    },
    "3a2370ce20de45c1970b097ed4b5f5b4": {
     "model_module": "@jupyter-widgets/base",
     "model_module_version": "1.2.0",
     "model_name": "LayoutModel",
     "state": {
      "_model_module": "@jupyter-widgets/base",
      "_model_module_version": "1.2.0",
      "_model_name": "LayoutModel",
      "_view_count": null,
      "_view_module": "@jupyter-widgets/base",
      "_view_module_version": "1.2.0",
      "_view_name": "LayoutView",
      "align_content": null,
      "align_items": null,
      "align_self": null,
      "border": null,
      "bottom": null,
      "display": null,
      "flex": null,
      "flex_flow": null,
      "grid_area": null,
      "grid_auto_columns": null,
      "grid_auto_flow": null,
      "grid_auto_rows": null,
      "grid_column": null,
      "grid_gap": null,
      "grid_row": null,
      "grid_template_areas": null,
      "grid_template_columns": null,
      "grid_template_rows": null,
      "height": null,
      "justify_content": null,
      "justify_items": null,
      "left": null,
      "margin": null,
      "max_height": null,
      "max_width": null,
      "min_height": null,
      "min_width": null,
      "object_fit": null,
      "object_position": null,
      "order": null,
      "overflow": null,
      "overflow_x": null,
      "overflow_y": null,
      "padding": null,
      "right": null,
      "top": null,
      "visibility": null,
      "width": null
     }
    },
    "3c713bd0e9b6448497cb1e88a19c0314": {
     "model_module": "@jupyter-widgets/controls",
     "model_module_version": "1.5.0",
     "model_name": "ProgressStyleModel",
     "state": {
      "_model_module": "@jupyter-widgets/controls",
      "_model_module_version": "1.5.0",
      "_model_name": "ProgressStyleModel",
      "_view_count": null,
      "_view_module": "@jupyter-widgets/base",
      "_view_module_version": "1.2.0",
      "_view_name": "StyleView",
      "bar_color": null,
      "description_width": ""
     }
    },
    "418781c840024c978a06801b4b406b70": {
     "model_module": "@jupyter-widgets/base",
     "model_module_version": "1.2.0",
     "model_name": "LayoutModel",
     "state": {
      "_model_module": "@jupyter-widgets/base",
      "_model_module_version": "1.2.0",
      "_model_name": "LayoutModel",
      "_view_count": null,
      "_view_module": "@jupyter-widgets/base",
      "_view_module_version": "1.2.0",
      "_view_name": "LayoutView",
      "align_content": null,
      "align_items": null,
      "align_self": null,
      "border": null,
      "bottom": null,
      "display": null,
      "flex": null,
      "flex_flow": null,
      "grid_area": null,
      "grid_auto_columns": null,
      "grid_auto_flow": null,
      "grid_auto_rows": null,
      "grid_column": null,
      "grid_gap": null,
      "grid_row": null,
      "grid_template_areas": null,
      "grid_template_columns": null,
      "grid_template_rows": null,
      "height": null,
      "justify_content": null,
      "justify_items": null,
      "left": null,
      "margin": null,
      "max_height": null,
      "max_width": null,
      "min_height": null,
      "min_width": null,
      "object_fit": null,
      "object_position": null,
      "order": null,
      "overflow": null,
      "overflow_x": null,
      "overflow_y": null,
      "padding": null,
      "right": null,
      "top": null,
      "visibility": null,
      "width": null
     }
    },
    "42ffc78949f543099bfcbff115c4d96b": {
     "model_module": "@jupyter-widgets/base",
     "model_module_version": "1.2.0",
     "model_name": "LayoutModel",
     "state": {
      "_model_module": "@jupyter-widgets/base",
      "_model_module_version": "1.2.0",
      "_model_name": "LayoutModel",
      "_view_count": null,
      "_view_module": "@jupyter-widgets/base",
      "_view_module_version": "1.2.0",
      "_view_name": "LayoutView",
      "align_content": null,
      "align_items": null,
      "align_self": null,
      "border": null,
      "bottom": null,
      "display": null,
      "flex": null,
      "flex_flow": null,
      "grid_area": null,
      "grid_auto_columns": null,
      "grid_auto_flow": null,
      "grid_auto_rows": null,
      "grid_column": null,
      "grid_gap": null,
      "grid_row": null,
      "grid_template_areas": null,
      "grid_template_columns": null,
      "grid_template_rows": null,
      "height": null,
      "justify_content": null,
      "justify_items": null,
      "left": null,
      "margin": null,
      "max_height": null,
      "max_width": null,
      "min_height": null,
      "min_width": null,
      "object_fit": null,
      "object_position": null,
      "order": null,
      "overflow": null,
      "overflow_x": null,
      "overflow_y": null,
      "padding": null,
      "right": null,
      "top": null,
      "visibility": null,
      "width": null
     }
    },
    "434add8136604c5e97f2117fbe59bb03": {
     "model_module": "@jupyter-widgets/controls",
     "model_module_version": "1.5.0",
     "model_name": "ProgressStyleModel",
     "state": {
      "_model_module": "@jupyter-widgets/controls",
      "_model_module_version": "1.5.0",
      "_model_name": "ProgressStyleModel",
      "_view_count": null,
      "_view_module": "@jupyter-widgets/base",
      "_view_module_version": "1.2.0",
      "_view_name": "StyleView",
      "bar_color": null,
      "description_width": ""
     }
    },
    "44643b8ca0634f57a9eba2cdda8a3e7b": {
     "model_module": "@jupyter-widgets/base",
     "model_module_version": "1.2.0",
     "model_name": "LayoutModel",
     "state": {
      "_model_module": "@jupyter-widgets/base",
      "_model_module_version": "1.2.0",
      "_model_name": "LayoutModel",
      "_view_count": null,
      "_view_module": "@jupyter-widgets/base",
      "_view_module_version": "1.2.0",
      "_view_name": "LayoutView",
      "align_content": null,
      "align_items": null,
      "align_self": null,
      "border": null,
      "bottom": null,
      "display": null,
      "flex": null,
      "flex_flow": null,
      "grid_area": null,
      "grid_auto_columns": null,
      "grid_auto_flow": null,
      "grid_auto_rows": null,
      "grid_column": null,
      "grid_gap": null,
      "grid_row": null,
      "grid_template_areas": null,
      "grid_template_columns": null,
      "grid_template_rows": null,
      "height": null,
      "justify_content": null,
      "justify_items": null,
      "left": null,
      "margin": null,
      "max_height": null,
      "max_width": null,
      "min_height": null,
      "min_width": null,
      "object_fit": null,
      "object_position": null,
      "order": null,
      "overflow": null,
      "overflow_x": null,
      "overflow_y": null,
      "padding": null,
      "right": null,
      "top": null,
      "visibility": null,
      "width": "20px"
     }
    },
    "481461d346cd473892fd1f2397183843": {
     "model_module": "@jupyter-widgets/controls",
     "model_module_version": "1.5.0",
     "model_name": "DescriptionStyleModel",
     "state": {
      "_model_module": "@jupyter-widgets/controls",
      "_model_module_version": "1.5.0",
      "_model_name": "DescriptionStyleModel",
      "_view_count": null,
      "_view_module": "@jupyter-widgets/base",
      "_view_module_version": "1.2.0",
      "_view_name": "StyleView",
      "description_width": ""
     }
    },
    "493022dc5889447784e6ec7b8eecdee0": {
     "model_module": "@jupyter-widgets/controls",
     "model_module_version": "1.5.0",
     "model_name": "HBoxModel",
     "state": {
      "_dom_classes": [],
      "_model_module": "@jupyter-widgets/controls",
      "_model_module_version": "1.5.0",
      "_model_name": "HBoxModel",
      "_view_count": null,
      "_view_module": "@jupyter-widgets/controls",
      "_view_module_version": "1.5.0",
      "_view_name": "HBoxView",
      "box_style": "",
      "children": [
       "IPY_MODEL_a4800f0691a8494eb5d649320658c81e",
       "IPY_MODEL_2d72975ea468400dac4bc799a6083008",
       "IPY_MODEL_980868db6c6146a1b112e4e06a007485"
      ],
      "layout": "IPY_MODEL_29358fe1830e4c6bb704f43569d36b7a"
     }
    },
    "4bf384192418428e9d7b3c109341b714": {
     "model_module": "@jupyter-widgets/controls",
     "model_module_version": "1.5.0",
     "model_name": "HTMLModel",
     "state": {
      "_dom_classes": [],
      "_model_module": "@jupyter-widgets/controls",
      "_model_module_version": "1.5.0",
      "_model_name": "HTMLModel",
      "_view_count": null,
      "_view_module": "@jupyter-widgets/controls",
      "_view_module_version": "1.5.0",
      "_view_name": "HTMLView",
      "description": "",
      "description_tooltip": null,
      "layout": "IPY_MODEL_d2f4c9b04e81450e8f5d55550f36c75e",
      "placeholder": "​",
      "style": "IPY_MODEL_36f86af274cb422ab1d901124f1f7615",
      "value": " 3606/0 [00:02&lt;00:00, 1373.90 examples/s]"
     }
    },
    "51672d2ad99c400f9c4084a45fbea913": {
     "model_module": "@jupyter-widgets/controls",
     "model_module_version": "1.5.0",
     "model_name": "FloatProgressModel",
     "state": {
      "_dom_classes": [],
      "_model_module": "@jupyter-widgets/controls",
      "_model_module_version": "1.5.0",
      "_model_name": "FloatProgressModel",
      "_view_count": null,
      "_view_module": "@jupyter-widgets/controls",
      "_view_module_version": "1.5.0",
      "_view_name": "ProgressView",
      "bar_style": "info",
      "description": "",
      "description_tooltip": null,
      "layout": "IPY_MODEL_faca5258bd424812a0b7d616bcc4dec2",
      "max": 1,
      "min": 0,
      "orientation": "horizontal",
      "style": "IPY_MODEL_3c713bd0e9b6448497cb1e88a19c0314",
      "value": 1
     }
    },
    "51f1211ea1174147b6ec96a192a3a72b": {
     "model_module": "@jupyter-widgets/base",
     "model_module_version": "1.2.0",
     "model_name": "LayoutModel",
     "state": {
      "_model_module": "@jupyter-widgets/base",
      "_model_module_version": "1.2.0",
      "_model_name": "LayoutModel",
      "_view_count": null,
      "_view_module": "@jupyter-widgets/base",
      "_view_module_version": "1.2.0",
      "_view_name": "LayoutView",
      "align_content": null,
      "align_items": null,
      "align_self": null,
      "border": null,
      "bottom": null,
      "display": null,
      "flex": null,
      "flex_flow": null,
      "grid_area": null,
      "grid_auto_columns": null,
      "grid_auto_flow": null,
      "grid_auto_rows": null,
      "grid_column": null,
      "grid_gap": null,
      "grid_row": null,
      "grid_template_areas": null,
      "grid_template_columns": null,
      "grid_template_rows": null,
      "height": null,
      "justify_content": null,
      "justify_items": null,
      "left": null,
      "margin": null,
      "max_height": null,
      "max_width": null,
      "min_height": null,
      "min_width": null,
      "object_fit": null,
      "object_position": null,
      "order": null,
      "overflow": null,
      "overflow_x": null,
      "overflow_y": null,
      "padding": null,
      "right": null,
      "top": null,
      "visibility": null,
      "width": null
     }
    },
    "5314e625437a4063976fe92dd080057c": {
     "model_module": "@jupyter-widgets/controls",
     "model_module_version": "1.5.0",
     "model_name": "HTMLModel",
     "state": {
      "_dom_classes": [],
      "_model_module": "@jupyter-widgets/controls",
      "_model_module_version": "1.5.0",
      "_model_name": "HTMLModel",
      "_view_count": null,
      "_view_module": "@jupyter-widgets/controls",
      "_view_module_version": "1.5.0",
      "_view_name": "HTMLView",
      "description": "",
      "description_tooltip": null,
      "layout": "IPY_MODEL_32904c8ee03b4598a6de6dda4b17cf84",
      "placeholder": "​",
      "style": "IPY_MODEL_7048ef40e4b8498ca0eaacec5a93c782",
      "value": "Dl Completed...: 100%"
     }
    },
    "637658d7b18141e08be0969585f9166b": {
     "model_module": "@jupyter-widgets/controls",
     "model_module_version": "1.5.0",
     "model_name": "DescriptionStyleModel",
     "state": {
      "_model_module": "@jupyter-widgets/controls",
      "_model_module_version": "1.5.0",
      "_model_name": "DescriptionStyleModel",
      "_view_count": null,
      "_view_module": "@jupyter-widgets/base",
      "_view_module_version": "1.2.0",
      "_view_name": "StyleView",
      "description_width": ""
     }
    },
    "6ade743edc774108b72ce70904110f38": {
     "model_module": "@jupyter-widgets/controls",
     "model_module_version": "1.5.0",
     "model_name": "HTMLModel",
     "state": {
      "_dom_classes": [],
      "_model_module": "@jupyter-widgets/controls",
      "_model_module_version": "1.5.0",
      "_model_name": "HTMLModel",
      "_view_count": null,
      "_view_module": "@jupyter-widgets/controls",
      "_view_module_version": "1.5.0",
      "_view_name": "HTMLView",
      "description": "",
      "description_tooltip": null,
      "layout": "IPY_MODEL_94cfb87411314d6ab5be41d2ff5e37c6",
      "placeholder": "​",
      "style": "IPY_MODEL_cd91675d50f244de8c438a6ed5108975",
      "value": " 2/2 [00:34&lt;00:00, 15.54s/ url]"
     }
    },
    "6af765f25ec54d6dbc63f96b0576a3f1": {
     "model_module": "@jupyter-widgets/controls",
     "model_module_version": "1.5.0",
     "model_name": "HTMLModel",
     "state": {
      "_dom_classes": [],
      "_model_module": "@jupyter-widgets/controls",
      "_model_module_version": "1.5.0",
      "_model_name": "HTMLModel",
      "_view_count": null,
      "_view_module": "@jupyter-widgets/controls",
      "_view_module_version": "1.5.0",
      "_view_name": "HTMLView",
      "description": "",
      "description_tooltip": null,
      "layout": "IPY_MODEL_88c304a2ffc542ccbfbb0dec0132d33d",
      "placeholder": "​",
      "style": "IPY_MODEL_481461d346cd473892fd1f2397183843",
      "value": "Dl Size...: 100%"
     }
    },
    "6b5cc024c77b4db68e40355a7bb42cd2": {
     "model_module": "@jupyter-widgets/controls",
     "model_module_version": "1.5.0",
     "model_name": "FloatProgressModel",
     "state": {
      "_dom_classes": [],
      "_model_module": "@jupyter-widgets/controls",
      "_model_module_version": "1.5.0",
      "_model_name": "FloatProgressModel",
      "_view_count": null,
      "_view_module": "@jupyter-widgets/controls",
      "_view_module_version": "1.5.0",
      "_view_name": "ProgressView",
      "bar_style": "success",
      "description": "",
      "description_tooltip": null,
      "layout": "IPY_MODEL_118bd3d50d4e4b2b8297d0f821135f57",
      "max": 1,
      "min": 0,
      "orientation": "horizontal",
      "style": "IPY_MODEL_7148b25353984792bd376b2e82339309",
      "value": 1
     }
    },
    "7048ef40e4b8498ca0eaacec5a93c782": {
     "model_module": "@jupyter-widgets/controls",
     "model_module_version": "1.5.0",
     "model_name": "DescriptionStyleModel",
     "state": {
      "_model_module": "@jupyter-widgets/controls",
      "_model_module_version": "1.5.0",
      "_model_name": "DescriptionStyleModel",
      "_view_count": null,
      "_view_module": "@jupyter-widgets/base",
      "_view_module_version": "1.2.0",
      "_view_name": "StyleView",
      "description_width": ""
     }
    },
    "708034d836fb4a5bb866b62e98d2c462": {
     "model_module": "@jupyter-widgets/base",
     "model_module_version": "1.2.0",
     "model_name": "LayoutModel",
     "state": {
      "_model_module": "@jupyter-widgets/base",
      "_model_module_version": "1.2.0",
      "_model_name": "LayoutModel",
      "_view_count": null,
      "_view_module": "@jupyter-widgets/base",
      "_view_module_version": "1.2.0",
      "_view_name": "LayoutView",
      "align_content": null,
      "align_items": null,
      "align_self": null,
      "border": null,
      "bottom": null,
      "display": null,
      "flex": null,
      "flex_flow": null,
      "grid_area": null,
      "grid_auto_columns": null,
      "grid_auto_flow": null,
      "grid_auto_rows": null,
      "grid_column": null,
      "grid_gap": null,
      "grid_row": null,
      "grid_template_areas": null,
      "grid_template_columns": null,
      "grid_template_rows": null,
      "height": null,
      "justify_content": null,
      "justify_items": null,
      "left": null,
      "margin": null,
      "max_height": null,
      "max_width": null,
      "min_height": null,
      "min_width": null,
      "object_fit": null,
      "object_position": null,
      "order": null,
      "overflow": null,
      "overflow_x": null,
      "overflow_y": null,
      "padding": null,
      "right": null,
      "top": null,
      "visibility": null,
      "width": null
     }
    },
    "7148b25353984792bd376b2e82339309": {
     "model_module": "@jupyter-widgets/controls",
     "model_module_version": "1.5.0",
     "model_name": "ProgressStyleModel",
     "state": {
      "_model_module": "@jupyter-widgets/controls",
      "_model_module_version": "1.5.0",
      "_model_name": "ProgressStyleModel",
      "_view_count": null,
      "_view_module": "@jupyter-widgets/base",
      "_view_module_version": "1.2.0",
      "_view_name": "StyleView",
      "bar_color": null,
      "description_width": ""
     }
    },
    "73ccac3733cf41afa296e96d8f5ef1d8": {
     "model_module": "@jupyter-widgets/base",
     "model_module_version": "1.2.0",
     "model_name": "LayoutModel",
     "state": {
      "_model_module": "@jupyter-widgets/base",
      "_model_module_version": "1.2.0",
      "_model_name": "LayoutModel",
      "_view_count": null,
      "_view_module": "@jupyter-widgets/base",
      "_view_module_version": "1.2.0",
      "_view_name": "LayoutView",
      "align_content": null,
      "align_items": null,
      "align_self": null,
      "border": null,
      "bottom": null,
      "display": null,
      "flex": null,
      "flex_flow": null,
      "grid_area": null,
      "grid_auto_columns": null,
      "grid_auto_flow": null,
      "grid_auto_rows": null,
      "grid_column": null,
      "grid_gap": null,
      "grid_row": null,
      "grid_template_areas": null,
      "grid_template_columns": null,
      "grid_template_rows": null,
      "height": null,
      "justify_content": null,
      "justify_items": null,
      "left": null,
      "margin": null,
      "max_height": null,
      "max_width": null,
      "min_height": null,
      "min_width": null,
      "object_fit": null,
      "object_position": null,
      "order": null,
      "overflow": null,
      "overflow_x": null,
      "overflow_y": null,
      "padding": null,
      "right": null,
      "top": null,
      "visibility": null,
      "width": null
     }
    },
    "74c13ee1deba474a95e8524e2b1b9524": {
     "model_module": "@jupyter-widgets/base",
     "model_module_version": "1.2.0",
     "model_name": "LayoutModel",
     "state": {
      "_model_module": "@jupyter-widgets/base",
      "_model_module_version": "1.2.0",
      "_model_name": "LayoutModel",
      "_view_count": null,
      "_view_module": "@jupyter-widgets/base",
      "_view_module_version": "1.2.0",
      "_view_name": "LayoutView",
      "align_content": null,
      "align_items": null,
      "align_self": null,
      "border": null,
      "bottom": null,
      "display": null,
      "flex": null,
      "flex_flow": null,
      "grid_area": null,
      "grid_auto_columns": null,
      "grid_auto_flow": null,
      "grid_auto_rows": null,
      "grid_column": null,
      "grid_gap": null,
      "grid_row": null,
      "grid_template_areas": null,
      "grid_template_columns": null,
      "grid_template_rows": null,
      "height": null,
      "justify_content": null,
      "justify_items": null,
      "left": null,
      "margin": null,
      "max_height": null,
      "max_width": null,
      "min_height": null,
      "min_width": null,
      "object_fit": null,
      "object_position": null,
      "order": null,
      "overflow": null,
      "overflow_x": null,
      "overflow_y": null,
      "padding": null,
      "right": null,
      "top": null,
      "visibility": null,
      "width": null
     }
    },
    "7b8ccd636ecc44418fdcfb9deef219a7": {
     "model_module": "@jupyter-widgets/controls",
     "model_module_version": "1.5.0",
     "model_name": "HBoxModel",
     "state": {
      "_dom_classes": [],
      "_model_module": "@jupyter-widgets/controls",
      "_model_module_version": "1.5.0",
      "_model_name": "HBoxModel",
      "_view_count": null,
      "_view_module": "@jupyter-widgets/controls",
      "_view_module_version": "1.5.0",
      "_view_name": "HBoxView",
      "box_style": "",
      "children": [
       "IPY_MODEL_6af765f25ec54d6dbc63f96b0576a3f1",
       "IPY_MODEL_3442287cbd034122915e2627270aeb8d",
       "IPY_MODEL_e593cde9c4224d12a7df6303bb4520a5"
      ],
      "layout": "IPY_MODEL_e3092bcf619649609cbc28ef15fa4d54"
     }
    },
    "7ca26a8a90a14dc491c74030d88b75e3": {
     "model_module": "@jupyter-widgets/controls",
     "model_module_version": "1.5.0",
     "model_name": "DescriptionStyleModel",
     "state": {
      "_model_module": "@jupyter-widgets/controls",
      "_model_module_version": "1.5.0",
      "_model_name": "DescriptionStyleModel",
      "_view_count": null,
      "_view_module": "@jupyter-widgets/base",
      "_view_module_version": "1.2.0",
      "_view_name": "StyleView",
      "description_width": ""
     }
    },
    "7ef3d95ea1ea496bb41897bef64c7e0e": {
     "model_module": "@jupyter-widgets/base",
     "model_module_version": "1.2.0",
     "model_name": "LayoutModel",
     "state": {
      "_model_module": "@jupyter-widgets/base",
      "_model_module_version": "1.2.0",
      "_model_name": "LayoutModel",
      "_view_count": null,
      "_view_module": "@jupyter-widgets/base",
      "_view_module_version": "1.2.0",
      "_view_name": "LayoutView",
      "align_content": null,
      "align_items": null,
      "align_self": null,
      "border": null,
      "bottom": null,
      "display": null,
      "flex": null,
      "flex_flow": null,
      "grid_area": null,
      "grid_auto_columns": null,
      "grid_auto_flow": null,
      "grid_auto_rows": null,
      "grid_column": null,
      "grid_gap": null,
      "grid_row": null,
      "grid_template_areas": null,
      "grid_template_columns": null,
      "grid_template_rows": null,
      "height": null,
      "justify_content": null,
      "justify_items": null,
      "left": null,
      "margin": null,
      "max_height": null,
      "max_width": null,
      "min_height": null,
      "min_width": null,
      "object_fit": null,
      "object_position": null,
      "order": null,
      "overflow": null,
      "overflow_x": null,
      "overflow_y": null,
      "padding": null,
      "right": null,
      "top": null,
      "visibility": null,
      "width": null
     }
    },
    "8133a2e5f76945a1b07437c5b7aafdf8": {
     "model_module": "@jupyter-widgets/controls",
     "model_module_version": "1.5.0",
     "model_name": "HTMLModel",
     "state": {
      "_dom_classes": [],
      "_model_module": "@jupyter-widgets/controls",
      "_model_module_version": "1.5.0",
      "_model_name": "HTMLModel",
      "_view_count": null,
      "_view_module": "@jupyter-widgets/controls",
      "_view_module_version": "1.5.0",
      "_view_name": "HTMLView",
      "description": "",
      "description_tooltip": null,
      "layout": "IPY_MODEL_42ffc78949f543099bfcbff115c4d96b",
      "placeholder": "​",
      "style": "IPY_MODEL_637658d7b18141e08be0969585f9166b",
      "value": " 3679/3680 [00:00&lt;00:00, 10183.76 examples/s]"
     }
    },
    "88c304a2ffc542ccbfbb0dec0132d33d": {
     "model_module": "@jupyter-widgets/base",
     "model_module_version": "1.2.0",
     "model_name": "LayoutModel",
     "state": {
      "_model_module": "@jupyter-widgets/base",
      "_model_module_version": "1.2.0",
      "_model_name": "LayoutModel",
      "_view_count": null,
      "_view_module": "@jupyter-widgets/base",
      "_view_module_version": "1.2.0",
      "_view_name": "LayoutView",
      "align_content": null,
      "align_items": null,
      "align_self": null,
      "border": null,
      "bottom": null,
      "display": null,
      "flex": null,
      "flex_flow": null,
      "grid_area": null,
      "grid_auto_columns": null,
      "grid_auto_flow": null,
      "grid_auto_rows": null,
      "grid_column": null,
      "grid_gap": null,
      "grid_row": null,
      "grid_template_areas": null,
      "grid_template_columns": null,
      "grid_template_rows": null,
      "height": null,
      "justify_content": null,
      "justify_items": null,
      "left": null,
      "margin": null,
      "max_height": null,
      "max_width": null,
      "min_height": null,
      "min_width": null,
      "object_fit": null,
      "object_position": null,
      "order": null,
      "overflow": null,
      "overflow_x": null,
      "overflow_y": null,
      "padding": null,
      "right": null,
      "top": null,
      "visibility": null,
      "width": null
     }
    },
    "8dc2fbeb0ff54b1aa5f1e6f6238123ce": {
     "model_module": "@jupyter-widgets/base",
     "model_module_version": "1.2.0",
     "model_name": "LayoutModel",
     "state": {
      "_model_module": "@jupyter-widgets/base",
      "_model_module_version": "1.2.0",
      "_model_name": "LayoutModel",
      "_view_count": null,
      "_view_module": "@jupyter-widgets/base",
      "_view_module_version": "1.2.0",
      "_view_name": "LayoutView",
      "align_content": null,
      "align_items": null,
      "align_self": null,
      "border": null,
      "bottom": null,
      "display": null,
      "flex": null,
      "flex_flow": null,
      "grid_area": null,
      "grid_auto_columns": null,
      "grid_auto_flow": null,
      "grid_auto_rows": null,
      "grid_column": null,
      "grid_gap": null,
      "grid_row": null,
      "grid_template_areas": null,
      "grid_template_columns": null,
      "grid_template_rows": null,
      "height": null,
      "justify_content": null,
      "justify_items": null,
      "left": null,
      "margin": null,
      "max_height": null,
      "max_width": null,
      "min_height": null,
      "min_width": null,
      "object_fit": null,
      "object_position": null,
      "order": null,
      "overflow": null,
      "overflow_x": null,
      "overflow_y": null,
      "padding": null,
      "right": null,
      "top": null,
      "visibility": null,
      "width": null
     }
    },
    "94cfb87411314d6ab5be41d2ff5e37c6": {
     "model_module": "@jupyter-widgets/base",
     "model_module_version": "1.2.0",
     "model_name": "LayoutModel",
     "state": {
      "_model_module": "@jupyter-widgets/base",
      "_model_module_version": "1.2.0",
      "_model_name": "LayoutModel",
      "_view_count": null,
      "_view_module": "@jupyter-widgets/base",
      "_view_module_version": "1.2.0",
      "_view_name": "LayoutView",
      "align_content": null,
      "align_items": null,
      "align_self": null,
      "border": null,
      "bottom": null,
      "display": null,
      "flex": null,
      "flex_flow": null,
      "grid_area": null,
      "grid_auto_columns": null,
      "grid_auto_flow": null,
      "grid_auto_rows": null,
      "grid_column": null,
      "grid_gap": null,
      "grid_row": null,
      "grid_template_areas": null,
      "grid_template_columns": null,
      "grid_template_rows": null,
      "height": null,
      "justify_content": null,
      "justify_items": null,
      "left": null,
      "margin": null,
      "max_height": null,
      "max_width": null,
      "min_height": null,
      "min_width": null,
      "object_fit": null,
      "object_position": null,
      "order": null,
      "overflow": null,
      "overflow_x": null,
      "overflow_y": null,
      "padding": null,
      "right": null,
      "top": null,
      "visibility": null,
      "width": null
     }
    },
    "9532f2e6912844dfab406ac91b6e895c": {
     "model_module": "@jupyter-widgets/controls",
     "model_module_version": "1.5.0",
     "model_name": "HTMLModel",
     "state": {
      "_dom_classes": [],
      "_model_module": "@jupyter-widgets/controls",
      "_model_module_version": "1.5.0",
      "_model_name": "HTMLModel",
      "_view_count": null,
      "_view_module": "@jupyter-widgets/controls",
      "_view_module_version": "1.5.0",
      "_view_name": "HTMLView",
      "description": "",
      "description_tooltip": null,
      "layout": "IPY_MODEL_73ccac3733cf41afa296e96d8f5ef1d8",
      "placeholder": "​",
      "style": "IPY_MODEL_c35e15a21ab346f78df0446c194c777a",
      "value": ""
     }
    },
    "9593757700bf466bb4f34268774c7ca0": {
     "model_module": "@jupyter-widgets/base",
     "model_module_version": "1.2.0",
     "model_name": "LayoutModel",
     "state": {
      "_model_module": "@jupyter-widgets/base",
      "_model_module_version": "1.2.0",
      "_model_name": "LayoutModel",
      "_view_count": null,
      "_view_module": "@jupyter-widgets/base",
      "_view_module_version": "1.2.0",
      "_view_name": "LayoutView",
      "align_content": null,
      "align_items": null,
      "align_self": null,
      "border": null,
      "bottom": null,
      "display": null,
      "flex": null,
      "flex_flow": null,
      "grid_area": null,
      "grid_auto_columns": null,
      "grid_auto_flow": null,
      "grid_auto_rows": null,
      "grid_column": null,
      "grid_gap": null,
      "grid_row": null,
      "grid_template_areas": null,
      "grid_template_columns": null,
      "grid_template_rows": null,
      "height": null,
      "justify_content": null,
      "justify_items": null,
      "left": null,
      "margin": null,
      "max_height": null,
      "max_width": null,
      "min_height": null,
      "min_width": null,
      "object_fit": null,
      "object_position": null,
      "order": null,
      "overflow": null,
      "overflow_x": null,
      "overflow_y": null,
      "padding": null,
      "right": null,
      "top": null,
      "visibility": null,
      "width": "20px"
     }
    },
    "980868db6c6146a1b112e4e06a007485": {
     "model_module": "@jupyter-widgets/controls",
     "model_module_version": "1.5.0",
     "model_name": "HTMLModel",
     "state": {
      "_dom_classes": [],
      "_model_module": "@jupyter-widgets/controls",
      "_model_module_version": "1.5.0",
      "_model_name": "HTMLModel",
      "_view_count": null,
      "_view_module": "@jupyter-widgets/controls",
      "_view_module_version": "1.5.0",
      "_view_name": "HTMLView",
      "description": "",
      "description_tooltip": null,
      "layout": "IPY_MODEL_bde84761864b42d5b363c6bf0e56f5d3",
      "placeholder": "​",
      "style": "IPY_MODEL_d29bb79ea1d94e4eb435571a64d3dfd3",
      "value": " 2/2 [00:34&lt;00:00, 18.92s/ file]"
     }
    },
    "9949d9cd8ae64ba3ae79393dc1c56495": {
     "model_module": "@jupyter-widgets/controls",
     "model_module_version": "1.5.0",
     "model_name": "HTMLModel",
     "state": {
      "_dom_classes": [],
      "_model_module": "@jupyter-widgets/controls",
      "_model_module_version": "1.5.0",
      "_model_name": "HTMLModel",
      "_view_count": null,
      "_view_module": "@jupyter-widgets/controls",
      "_view_module_version": "1.5.0",
      "_view_name": "HTMLView",
      "description": "",
      "description_tooltip": null,
      "layout": "IPY_MODEL_f8c060236e074afd80676e0b8c1a0048",
      "placeholder": "​",
      "style": "IPY_MODEL_ab1c15377e8a4f4ea1823ac8b859d915",
      "value": " 3668/3669 [00:00&lt;00:00, 9372.38 examples/s]"
     }
    },
    "9f0e014b96d94f44a62dd5d35e219f56": {
     "model_module": "@jupyter-widgets/controls",
     "model_module_version": "1.5.0",
     "model_name": "DescriptionStyleModel",
     "state": {
      "_model_module": "@jupyter-widgets/controls",
      "_model_module_version": "1.5.0",
      "_model_name": "DescriptionStyleModel",
      "_view_count": null,
      "_view_module": "@jupyter-widgets/base",
      "_view_module_version": "1.2.0",
      "_view_name": "StyleView",
      "description_width": ""
     }
    },
    "9f20b24d23014117b35143c9545f3176": {
     "model_module": "@jupyter-widgets/base",
     "model_module_version": "1.2.0",
     "model_name": "LayoutModel",
     "state": {
      "_model_module": "@jupyter-widgets/base",
      "_model_module_version": "1.2.0",
      "_model_name": "LayoutModel",
      "_view_count": null,
      "_view_module": "@jupyter-widgets/base",
      "_view_module_version": "1.2.0",
      "_view_name": "LayoutView",
      "align_content": null,
      "align_items": null,
      "align_self": null,
      "border": null,
      "bottom": null,
      "display": null,
      "flex": null,
      "flex_flow": null,
      "grid_area": null,
      "grid_auto_columns": null,
      "grid_auto_flow": null,
      "grid_auto_rows": null,
      "grid_column": null,
      "grid_gap": null,
      "grid_row": null,
      "grid_template_areas": null,
      "grid_template_columns": null,
      "grid_template_rows": null,
      "height": null,
      "justify_content": null,
      "justify_items": null,
      "left": null,
      "margin": null,
      "max_height": null,
      "max_width": null,
      "min_height": null,
      "min_width": null,
      "object_fit": null,
      "object_position": null,
      "order": null,
      "overflow": null,
      "overflow_x": null,
      "overflow_y": null,
      "padding": null,
      "right": null,
      "top": null,
      "visibility": null,
      "width": null
     }
    },
    "a08d8b079105466388c26633a8d70974": {
     "model_module": "@jupyter-widgets/controls",
     "model_module_version": "1.5.0",
     "model_name": "HBoxModel",
     "state": {
      "_dom_classes": [],
      "_model_module": "@jupyter-widgets/controls",
      "_model_module_version": "1.5.0",
      "_model_name": "HBoxModel",
      "_view_count": null,
      "_view_module": "@jupyter-widgets/controls",
      "_view_module_version": "1.5.0",
      "_view_name": "HBoxView",
      "box_style": "",
      "children": [
       "IPY_MODEL_b0a0e6c1e5db4860b602bfdc85df05ab",
       "IPY_MODEL_c294317c2ef14eab9f24cedceef42b4f",
       "IPY_MODEL_1e6053ee2e12447b9f503e8e957590f1"
      ],
      "layout": "IPY_MODEL_d8f51298ecdd41048df73010c52f2fb5"
     }
    },
    "a4800f0691a8494eb5d649320658c81e": {
     "model_module": "@jupyter-widgets/controls",
     "model_module_version": "1.5.0",
     "model_name": "HTMLModel",
     "state": {
      "_dom_classes": [],
      "_model_module": "@jupyter-widgets/controls",
      "_model_module_version": "1.5.0",
      "_model_name": "HTMLModel",
      "_view_count": null,
      "_view_module": "@jupyter-widgets/controls",
      "_view_module_version": "1.5.0",
      "_view_name": "HTMLView",
      "description": "",
      "description_tooltip": null,
      "layout": "IPY_MODEL_da77bc1828e4496383647cad7e10cc91",
      "placeholder": "​",
      "style": "IPY_MODEL_d1fa370418a44c8bb82b0a396933d01f",
      "value": "Extraction completed...: 100%"
     }
    },
    "ab1c15377e8a4f4ea1823ac8b859d915": {
     "model_module": "@jupyter-widgets/controls",
     "model_module_version": "1.5.0",
     "model_name": "DescriptionStyleModel",
     "state": {
      "_model_module": "@jupyter-widgets/controls",
      "_model_module_version": "1.5.0",
      "_model_name": "DescriptionStyleModel",
      "_view_count": null,
      "_view_module": "@jupyter-widgets/base",
      "_view_module_version": "1.2.0",
      "_view_name": "StyleView",
      "description_width": ""
     }
    },
    "b0a0e6c1e5db4860b602bfdc85df05ab": {
     "model_module": "@jupyter-widgets/controls",
     "model_module_version": "1.5.0",
     "model_name": "HTMLModel",
     "state": {
      "_dom_classes": [],
      "_model_module": "@jupyter-widgets/controls",
      "_model_module_version": "1.5.0",
      "_model_name": "HTMLModel",
      "_view_count": null,
      "_view_module": "@jupyter-widgets/controls",
      "_view_module_version": "1.5.0",
      "_view_name": "HTMLView",
      "description": "",
      "description_tooltip": null,
      "layout": "IPY_MODEL_74c13ee1deba474a95e8524e2b1b9524",
      "placeholder": "​",
      "style": "IPY_MODEL_b62723af64f2441b97bb77c8503b3ac7",
      "value": ""
     }
    },
    "b62723af64f2441b97bb77c8503b3ac7": {
     "model_module": "@jupyter-widgets/controls",
     "model_module_version": "1.5.0",
     "model_name": "DescriptionStyleModel",
     "state": {
      "_model_module": "@jupyter-widgets/controls",
      "_model_module_version": "1.5.0",
      "_model_name": "DescriptionStyleModel",
      "_view_count": null,
      "_view_module": "@jupyter-widgets/base",
      "_view_module_version": "1.2.0",
      "_view_name": "StyleView",
      "description_width": ""
     }
    },
    "b79c18ac2ac649e9acfef24da6c2bea1": {
     "model_module": "@jupyter-widgets/controls",
     "model_module_version": "1.5.0",
     "model_name": "HBoxModel",
     "state": {
      "_dom_classes": [],
      "_model_module": "@jupyter-widgets/controls",
      "_model_module_version": "1.5.0",
      "_model_name": "HBoxModel",
      "_view_count": null,
      "_view_module": "@jupyter-widgets/controls",
      "_view_module_version": "1.5.0",
      "_view_name": "HBoxView",
      "box_style": "",
      "children": [
       "IPY_MODEL_9532f2e6912844dfab406ac91b6e895c",
       "IPY_MODEL_51672d2ad99c400f9c4084a45fbea913",
       "IPY_MODEL_4bf384192418428e9d7b3c109341b714"
      ],
      "layout": "IPY_MODEL_8dc2fbeb0ff54b1aa5f1e6f6238123ce"
     }
    },
    "bde84761864b42d5b363c6bf0e56f5d3": {
     "model_module": "@jupyter-widgets/base",
     "model_module_version": "1.2.0",
     "model_name": "LayoutModel",
     "state": {
      "_model_module": "@jupyter-widgets/base",
      "_model_module_version": "1.2.0",
      "_model_name": "LayoutModel",
      "_view_count": null,
      "_view_module": "@jupyter-widgets/base",
      "_view_module_version": "1.2.0",
      "_view_name": "LayoutView",
      "align_content": null,
      "align_items": null,
      "align_self": null,
      "border": null,
      "bottom": null,
      "display": null,
      "flex": null,
      "flex_flow": null,
      "grid_area": null,
      "grid_auto_columns": null,
      "grid_auto_flow": null,
      "grid_auto_rows": null,
      "grid_column": null,
      "grid_gap": null,
      "grid_row": null,
      "grid_template_areas": null,
      "grid_template_columns": null,
      "grid_template_rows": null,
      "height": null,
      "justify_content": null,
      "justify_items": null,
      "left": null,
      "margin": null,
      "max_height": null,
      "max_width": null,
      "min_height": null,
      "min_width": null,
      "object_fit": null,
      "object_position": null,
      "order": null,
      "overflow": null,
      "overflow_x": null,
      "overflow_y": null,
      "padding": null,
      "right": null,
      "top": null,
      "visibility": null,
      "width": null
     }
    },
    "c294317c2ef14eab9f24cedceef42b4f": {
     "model_module": "@jupyter-widgets/controls",
     "model_module_version": "1.5.0",
     "model_name": "FloatProgressModel",
     "state": {
      "_dom_classes": [],
      "_model_module": "@jupyter-widgets/controls",
      "_model_module_version": "1.5.0",
      "_model_name": "FloatProgressModel",
      "_view_count": null,
      "_view_module": "@jupyter-widgets/controls",
      "_view_module_version": "1.5.0",
      "_view_name": "ProgressView",
      "bar_style": "info",
      "description": "",
      "description_tooltip": null,
      "layout": "IPY_MODEL_344673b65f974322b52b5798a35134a5",
      "max": 1,
      "min": 0,
      "orientation": "horizontal",
      "style": "IPY_MODEL_1b8a2344a0aa42b5b6687640932065d4",
      "value": 1
     }
    },
    "c35e15a21ab346f78df0446c194c777a": {
     "model_module": "@jupyter-widgets/controls",
     "model_module_version": "1.5.0",
     "model_name": "DescriptionStyleModel",
     "state": {
      "_model_module": "@jupyter-widgets/controls",
      "_model_module_version": "1.5.0",
      "_model_name": "DescriptionStyleModel",
      "_view_count": null,
      "_view_module": "@jupyter-widgets/base",
      "_view_module_version": "1.2.0",
      "_view_name": "StyleView",
      "description_width": ""
     }
    },
    "ccaef92185a74b748f389a9bd5074886": {
     "model_module": "@jupyter-widgets/controls",
     "model_module_version": "1.5.0",
     "model_name": "HBoxModel",
     "state": {
      "_dom_classes": [],
      "_model_module": "@jupyter-widgets/controls",
      "_model_module_version": "1.5.0",
      "_model_name": "HBoxModel",
      "_view_count": null,
      "_view_module": "@jupyter-widgets/controls",
      "_view_module_version": "1.5.0",
      "_view_name": "HBoxView",
      "box_style": "",
      "children": [
       "IPY_MODEL_1c4b227491b54cf3ba64b320d291564e",
       "IPY_MODEL_e751b62fc23043aa90d9e4efb1b98755",
       "IPY_MODEL_8133a2e5f76945a1b07437c5b7aafdf8"
      ],
      "layout": "IPY_MODEL_7ef3d95ea1ea496bb41897bef64c7e0e"
     }
    },
    "cd91675d50f244de8c438a6ed5108975": {
     "model_module": "@jupyter-widgets/controls",
     "model_module_version": "1.5.0",
     "model_name": "DescriptionStyleModel",
     "state": {
      "_model_module": "@jupyter-widgets/controls",
      "_model_module_version": "1.5.0",
      "_model_name": "DescriptionStyleModel",
      "_view_count": null,
      "_view_module": "@jupyter-widgets/base",
      "_view_module_version": "1.2.0",
      "_view_name": "StyleView",
      "description_width": ""
     }
    },
    "d1fa370418a44c8bb82b0a396933d01f": {
     "model_module": "@jupyter-widgets/controls",
     "model_module_version": "1.5.0",
     "model_name": "DescriptionStyleModel",
     "state": {
      "_model_module": "@jupyter-widgets/controls",
      "_model_module_version": "1.5.0",
      "_model_name": "DescriptionStyleModel",
      "_view_count": null,
      "_view_module": "@jupyter-widgets/base",
      "_view_module_version": "1.2.0",
      "_view_name": "StyleView",
      "description_width": ""
     }
    },
    "d29bb79ea1d94e4eb435571a64d3dfd3": {
     "model_module": "@jupyter-widgets/controls",
     "model_module_version": "1.5.0",
     "model_name": "DescriptionStyleModel",
     "state": {
      "_model_module": "@jupyter-widgets/controls",
      "_model_module_version": "1.5.0",
      "_model_name": "DescriptionStyleModel",
      "_view_count": null,
      "_view_module": "@jupyter-widgets/base",
      "_view_module_version": "1.2.0",
      "_view_name": "StyleView",
      "description_width": ""
     }
    },
    "d2f4c9b04e81450e8f5d55550f36c75e": {
     "model_module": "@jupyter-widgets/base",
     "model_module_version": "1.2.0",
     "model_name": "LayoutModel",
     "state": {
      "_model_module": "@jupyter-widgets/base",
      "_model_module_version": "1.2.0",
      "_model_name": "LayoutModel",
      "_view_count": null,
      "_view_module": "@jupyter-widgets/base",
      "_view_module_version": "1.2.0",
      "_view_name": "LayoutView",
      "align_content": null,
      "align_items": null,
      "align_self": null,
      "border": null,
      "bottom": null,
      "display": null,
      "flex": null,
      "flex_flow": null,
      "grid_area": null,
      "grid_auto_columns": null,
      "grid_auto_flow": null,
      "grid_auto_rows": null,
      "grid_column": null,
      "grid_gap": null,
      "grid_row": null,
      "grid_template_areas": null,
      "grid_template_columns": null,
      "grid_template_rows": null,
      "height": null,
      "justify_content": null,
      "justify_items": null,
      "left": null,
      "margin": null,
      "max_height": null,
      "max_width": null,
      "min_height": null,
      "min_width": null,
      "object_fit": null,
      "object_position": null,
      "order": null,
      "overflow": null,
      "overflow_x": null,
      "overflow_y": null,
      "padding": null,
      "right": null,
      "top": null,
      "visibility": null,
      "width": null
     }
    },
    "d5aa8844ecc34244ae88f1611ca60406": {
     "model_module": "@jupyter-widgets/base",
     "model_module_version": "1.2.0",
     "model_name": "LayoutModel",
     "state": {
      "_model_module": "@jupyter-widgets/base",
      "_model_module_version": "1.2.0",
      "_model_name": "LayoutModel",
      "_view_count": null,
      "_view_module": "@jupyter-widgets/base",
      "_view_module_version": "1.2.0",
      "_view_name": "LayoutView",
      "align_content": null,
      "align_items": null,
      "align_self": null,
      "border": null,
      "bottom": null,
      "display": null,
      "flex": null,
      "flex_flow": null,
      "grid_area": null,
      "grid_auto_columns": null,
      "grid_auto_flow": null,
      "grid_auto_rows": null,
      "grid_column": null,
      "grid_gap": null,
      "grid_row": null,
      "grid_template_areas": null,
      "grid_template_columns": null,
      "grid_template_rows": null,
      "height": null,
      "justify_content": null,
      "justify_items": null,
      "left": null,
      "margin": null,
      "max_height": null,
      "max_width": null,
      "min_height": null,
      "min_width": null,
      "object_fit": null,
      "object_position": null,
      "order": null,
      "overflow": null,
      "overflow_x": null,
      "overflow_y": null,
      "padding": null,
      "right": null,
      "top": null,
      "visibility": null,
      "width": null
     }
    },
    "d8f51298ecdd41048df73010c52f2fb5": {
     "model_module": "@jupyter-widgets/base",
     "model_module_version": "1.2.0",
     "model_name": "LayoutModel",
     "state": {
      "_model_module": "@jupyter-widgets/base",
      "_model_module_version": "1.2.0",
      "_model_name": "LayoutModel",
      "_view_count": null,
      "_view_module": "@jupyter-widgets/base",
      "_view_module_version": "1.2.0",
      "_view_name": "LayoutView",
      "align_content": null,
      "align_items": null,
      "align_self": null,
      "border": null,
      "bottom": null,
      "display": null,
      "flex": null,
      "flex_flow": null,
      "grid_area": null,
      "grid_auto_columns": null,
      "grid_auto_flow": null,
      "grid_auto_rows": null,
      "grid_column": null,
      "grid_gap": null,
      "grid_row": null,
      "grid_template_areas": null,
      "grid_template_columns": null,
      "grid_template_rows": null,
      "height": null,
      "justify_content": null,
      "justify_items": null,
      "left": null,
      "margin": null,
      "max_height": null,
      "max_width": null,
      "min_height": null,
      "min_width": null,
      "object_fit": null,
      "object_position": null,
      "order": null,
      "overflow": null,
      "overflow_x": null,
      "overflow_y": null,
      "padding": null,
      "right": null,
      "top": null,
      "visibility": null,
      "width": null
     }
    },
    "da77bc1828e4496383647cad7e10cc91": {
     "model_module": "@jupyter-widgets/base",
     "model_module_version": "1.2.0",
     "model_name": "LayoutModel",
     "state": {
      "_model_module": "@jupyter-widgets/base",
      "_model_module_version": "1.2.0",
      "_model_name": "LayoutModel",
      "_view_count": null,
      "_view_module": "@jupyter-widgets/base",
      "_view_module_version": "1.2.0",
      "_view_name": "LayoutView",
      "align_content": null,
      "align_items": null,
      "align_self": null,
      "border": null,
      "bottom": null,
      "display": null,
      "flex": null,
      "flex_flow": null,
      "grid_area": null,
      "grid_auto_columns": null,
      "grid_auto_flow": null,
      "grid_auto_rows": null,
      "grid_column": null,
      "grid_gap": null,
      "grid_row": null,
      "grid_template_areas": null,
      "grid_template_columns": null,
      "grid_template_rows": null,
      "height": null,
      "justify_content": null,
      "justify_items": null,
      "left": null,
      "margin": null,
      "max_height": null,
      "max_width": null,
      "min_height": null,
      "min_width": null,
      "object_fit": null,
      "object_position": null,
      "order": null,
      "overflow": null,
      "overflow_x": null,
      "overflow_y": null,
      "padding": null,
      "right": null,
      "top": null,
      "visibility": null,
      "width": null
     }
    },
    "e094e38289044c0b910893fb5220bd2b": {
     "model_module": "@jupyter-widgets/controls",
     "model_module_version": "1.5.0",
     "model_name": "HBoxModel",
     "state": {
      "_dom_classes": [],
      "_model_module": "@jupyter-widgets/controls",
      "_model_module_version": "1.5.0",
      "_model_name": "HBoxModel",
      "_view_count": null,
      "_view_module": "@jupyter-widgets/controls",
      "_view_module_version": "1.5.0",
      "_view_name": "HBoxView",
      "box_style": "",
      "children": [
       "IPY_MODEL_f0a59f69e83146b48989383a344576d4",
       "IPY_MODEL_2553b6676e1945d19273c375b9b20261",
       "IPY_MODEL_9949d9cd8ae64ba3ae79393dc1c56495"
      ],
      "layout": "IPY_MODEL_418781c840024c978a06801b4b406b70"
     }
    },
    "e0feb05decf142e98c38136fe132b510": {
     "model_module": "@jupyter-widgets/controls",
     "model_module_version": "1.5.0",
     "model_name": "ProgressStyleModel",
     "state": {
      "_model_module": "@jupyter-widgets/controls",
      "_model_module_version": "1.5.0",
      "_model_name": "ProgressStyleModel",
      "_view_count": null,
      "_view_module": "@jupyter-widgets/base",
      "_view_module_version": "1.2.0",
      "_view_name": "StyleView",
      "bar_color": null,
      "description_width": ""
     }
    },
    "e3092bcf619649609cbc28ef15fa4d54": {
     "model_module": "@jupyter-widgets/base",
     "model_module_version": "1.2.0",
     "model_name": "LayoutModel",
     "state": {
      "_model_module": "@jupyter-widgets/base",
      "_model_module_version": "1.2.0",
      "_model_name": "LayoutModel",
      "_view_count": null,
      "_view_module": "@jupyter-widgets/base",
      "_view_module_version": "1.2.0",
      "_view_name": "LayoutView",
      "align_content": null,
      "align_items": null,
      "align_self": null,
      "border": null,
      "bottom": null,
      "display": null,
      "flex": null,
      "flex_flow": null,
      "grid_area": null,
      "grid_auto_columns": null,
      "grid_auto_flow": null,
      "grid_auto_rows": null,
      "grid_column": null,
      "grid_gap": null,
      "grid_row": null,
      "grid_template_areas": null,
      "grid_template_columns": null,
      "grid_template_rows": null,
      "height": null,
      "justify_content": null,
      "justify_items": null,
      "left": null,
      "margin": null,
      "max_height": null,
      "max_width": null,
      "min_height": null,
      "min_width": null,
      "object_fit": null,
      "object_position": null,
      "order": null,
      "overflow": null,
      "overflow_x": null,
      "overflow_y": null,
      "padding": null,
      "right": null,
      "top": null,
      "visibility": null,
      "width": null
     }
    },
    "e593cde9c4224d12a7df6303bb4520a5": {
     "model_module": "@jupyter-widgets/controls",
     "model_module_version": "1.5.0",
     "model_name": "HTMLModel",
     "state": {
      "_dom_classes": [],
      "_model_module": "@jupyter-widgets/controls",
      "_model_module_version": "1.5.0",
      "_model_name": "HTMLModel",
      "_view_count": null,
      "_view_module": "@jupyter-widgets/controls",
      "_view_module_version": "1.5.0",
      "_view_name": "HTMLView",
      "description": "",
      "description_tooltip": null,
      "layout": "IPY_MODEL_34ea1291673344eebd58bd2d30b24610",
      "placeholder": "​",
      "style": "IPY_MODEL_0a695a7240fe4c0a947cd36c1948d308",
      "value": " 773/773 [00:34&lt;00:00, 30.28 MiB/s]"
     }
    },
    "e638155ab996446788be094dc1c3011f": {
     "model_module": "@jupyter-widgets/controls",
     "model_module_version": "1.5.0",
     "model_name": "DescriptionStyleModel",
     "state": {
      "_model_module": "@jupyter-widgets/controls",
      "_model_module_version": "1.5.0",
      "_model_name": "DescriptionStyleModel",
      "_view_count": null,
      "_view_module": "@jupyter-widgets/base",
      "_view_module_version": "1.2.0",
      "_view_name": "StyleView",
      "description_width": ""
     }
    },
    "e751b62fc23043aa90d9e4efb1b98755": {
     "model_module": "@jupyter-widgets/controls",
     "model_module_version": "1.5.0",
     "model_name": "FloatProgressModel",
     "state": {
      "_dom_classes": [],
      "_model_module": "@jupyter-widgets/controls",
      "_model_module_version": "1.5.0",
      "_model_name": "FloatProgressModel",
      "_view_count": null,
      "_view_module": "@jupyter-widgets/controls",
      "_view_module_version": "1.5.0",
      "_view_name": "ProgressView",
      "bar_style": "danger",
      "description": "",
      "description_tooltip": null,
      "layout": "IPY_MODEL_9f20b24d23014117b35143c9545f3176",
      "max": 3680,
      "min": 0,
      "orientation": "horizontal",
      "style": "IPY_MODEL_434add8136604c5e97f2117fbe59bb03",
      "value": 3679
     }
    },
    "eb46ba5f8309483ca2ecb62c8a2cca23": {
     "model_module": "@jupyter-widgets/controls",
     "model_module_version": "1.5.0",
     "model_name": "ProgressStyleModel",
     "state": {
      "_model_module": "@jupyter-widgets/controls",
      "_model_module_version": "1.5.0",
      "_model_name": "ProgressStyleModel",
      "_view_count": null,
      "_view_module": "@jupyter-widgets/base",
      "_view_module_version": "1.2.0",
      "_view_name": "StyleView",
      "bar_color": null,
      "description_width": ""
     }
    },
    "f0a59f69e83146b48989383a344576d4": {
     "model_module": "@jupyter-widgets/controls",
     "model_module_version": "1.5.0",
     "model_name": "HTMLModel",
     "state": {
      "_dom_classes": [],
      "_model_module": "@jupyter-widgets/controls",
      "_model_module_version": "1.5.0",
      "_model_name": "HTMLModel",
      "_view_count": null,
      "_view_module": "@jupyter-widgets/controls",
      "_view_module_version": "1.5.0",
      "_view_name": "HTMLView",
      "description": "",
      "description_tooltip": null,
      "layout": "IPY_MODEL_708034d836fb4a5bb866b62e98d2c462",
      "placeholder": "​",
      "style": "IPY_MODEL_7ca26a8a90a14dc491c74030d88b75e3",
      "value": "100%"
     }
    },
    "f8c060236e074afd80676e0b8c1a0048": {
     "model_module": "@jupyter-widgets/base",
     "model_module_version": "1.2.0",
     "model_name": "LayoutModel",
     "state": {
      "_model_module": "@jupyter-widgets/base",
      "_model_module_version": "1.2.0",
      "_model_name": "LayoutModel",
      "_view_count": null,
      "_view_module": "@jupyter-widgets/base",
      "_view_module_version": "1.2.0",
      "_view_name": "LayoutView",
      "align_content": null,
      "align_items": null,
      "align_self": null,
      "border": null,
      "bottom": null,
      "display": null,
      "flex": null,
      "flex_flow": null,
      "grid_area": null,
      "grid_auto_columns": null,
      "grid_auto_flow": null,
      "grid_auto_rows": null,
      "grid_column": null,
      "grid_gap": null,
      "grid_row": null,
      "grid_template_areas": null,
      "grid_template_columns": null,
      "grid_template_rows": null,
      "height": null,
      "justify_content": null,
      "justify_items": null,
      "left": null,
      "margin": null,
      "max_height": null,
      "max_width": null,
      "min_height": null,
      "min_width": null,
      "object_fit": null,
      "object_position": null,
      "order": null,
      "overflow": null,
      "overflow_x": null,
      "overflow_y": null,
      "padding": null,
      "right": null,
      "top": null,
      "visibility": null,
      "width": null
     }
    },
    "faca5258bd424812a0b7d616bcc4dec2": {
     "model_module": "@jupyter-widgets/base",
     "model_module_version": "1.2.0",
     "model_name": "LayoutModel",
     "state": {
      "_model_module": "@jupyter-widgets/base",
      "_model_module_version": "1.2.0",
      "_model_name": "LayoutModel",
      "_view_count": null,
      "_view_module": "@jupyter-widgets/base",
      "_view_module_version": "1.2.0",
      "_view_name": "LayoutView",
      "align_content": null,
      "align_items": null,
      "align_self": null,
      "border": null,
      "bottom": null,
      "display": null,
      "flex": null,
      "flex_flow": null,
      "grid_area": null,
      "grid_auto_columns": null,
      "grid_auto_flow": null,
      "grid_auto_rows": null,
      "grid_column": null,
      "grid_gap": null,
      "grid_row": null,
      "grid_template_areas": null,
      "grid_template_columns": null,
      "grid_template_rows": null,
      "height": null,
      "justify_content": null,
      "justify_items": null,
      "left": null,
      "margin": null,
      "max_height": null,
      "max_width": null,
      "min_height": null,
      "min_width": null,
      "object_fit": null,
      "object_position": null,
      "order": null,
      "overflow": null,
      "overflow_x": null,
      "overflow_y": null,
      "padding": null,
      "right": null,
      "top": null,
      "visibility": null,
      "width": "20px"
     }
    },
    "fd2b72c12dda4a1795d8e393e72e4ef9": {
     "model_module": "@jupyter-widgets/base",
     "model_module_version": "1.2.0",
     "model_name": "LayoutModel",
     "state": {
      "_model_module": "@jupyter-widgets/base",
      "_model_module_version": "1.2.0",
      "_model_name": "LayoutModel",
      "_view_count": null,
      "_view_module": "@jupyter-widgets/base",
      "_view_module_version": "1.2.0",
      "_view_name": "LayoutView",
      "align_content": null,
      "align_items": null,
      "align_self": null,
      "border": null,
      "bottom": null,
      "display": null,
      "flex": null,
      "flex_flow": null,
      "grid_area": null,
      "grid_auto_columns": null,
      "grid_auto_flow": null,
      "grid_auto_rows": null,
      "grid_column": null,
      "grid_gap": null,
      "grid_row": null,
      "grid_template_areas": null,
      "grid_template_columns": null,
      "grid_template_rows": null,
      "height": null,
      "justify_content": null,
      "justify_items": null,
      "left": null,
      "margin": null,
      "max_height": null,
      "max_width": null,
      "min_height": null,
      "min_width": null,
      "object_fit": null,
      "object_position": null,
      "order": null,
      "overflow": null,
      "overflow_x": null,
      "overflow_y": null,
      "padding": null,
      "right": null,
      "top": null,
      "visibility": null,
      "width": null
     }
    }
   }
  }
 },
 "nbformat": 4,
 "nbformat_minor": 4
}
